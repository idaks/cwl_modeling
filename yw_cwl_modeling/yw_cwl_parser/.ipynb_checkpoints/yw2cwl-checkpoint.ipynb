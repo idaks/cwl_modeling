{
 "cells": [
  {
   "cell_type": "code",
   "execution_count": 1,
   "metadata": {
    "collapsed": true
   },
   "outputs": [],
   "source": [
    "import os\n",
    "import re\n",
    "from collections import defaultdict\n"
   ]
  },
  {
   "cell_type": "markdown",
   "metadata": {},
   "source": [
    "### Functions for parsing the yw models file. "
   ]
  },
  {
   "cell_type": "code",
   "execution_count": 2,
   "metadata": {
    "collapsed": true
   },
   "outputs": [],
   "source": [
    "### function extracting the programs.\n",
    "\n",
    "def extract_steps(line):\n",
    "    \n",
    "    #% FACT: program(program_id, program_name, qualified_program_name, begin_annotation_id, end_annotation_id).\n",
    "    #print(\"Extracting steps.\")\n",
    "    ## Extract data between \"(\" and \")\".\n",
    "    data = line[line.index(\"(\")+1:line.index(\")\")]\n",
    "    \n",
    "    data = data.split(',')\n",
    "    #print(data)\n",
    "    steps[data[0]] = {\n",
    "                      \"program_name\" :data[1].strip().strip(\"'\").strip('\"'),\n",
    "                      \"qualified_program_name\": data[2].strip().strip(\"'\").strip('\"')\n",
    "                    }\n",
    "    \n",
    "    #print(steps)\n",
    "    return"
   ]
  },
  {
   "cell_type": "code",
   "execution_count": 45,
   "metadata": {
    "collapsed": true
   },
   "outputs": [],
   "source": [
    "### function extracting the workflow.\n",
    "\n",
    "def extract_workflows(line):\n",
    "    \n",
    "    #print(line)\n",
    "    data = line[line.index(\"(\")+1:line.index(\")\")]\n",
    "    #print(data)\n",
    "    workflow[data] = steps[data]['program_name']\n",
    "       \n",
    "    return "
   ]
  },
  {
   "cell_type": "code",
   "execution_count": 46,
   "metadata": {},
   "outputs": [],
   "source": [
    "read_yw_model(yw_model_file)"
   ]
  },
  {
   "cell_type": "code",
   "execution_count": 47,
   "metadata": {
    "collapsed": true
   },
   "outputs": [],
   "source": [
    "### function extracting the ports\n",
    "\n",
    "def extract_ports(line):\n",
    "    #print(\"Extracting ports.\")\n",
    "    ## Extract data between \"(\" and \")\".\n",
    "    data = line[line.index(\"(\")+1:line.index(\")\")]\n",
    "    \n",
    "    #% FACT: port(port_id, port_type, port_name, qualified_port_name, port_annotation_id, data_id).\n",
    "    \n",
    "    data = data.split(',')\n",
    "    \n",
    "    ports[data[0]] ={\n",
    "                     \"port_type\": data[1].strip().strip(\"'\").strip('\"').upper(),\n",
    "                     \"port_name\": data[2].strip().strip(\"'\").strip('\"'),\n",
    "                     \"qualified_port_name\" : data[3].strip().strip(\"'\").strip('\"'), \n",
    "                     \"data_id\":data[5].strip().strip(\"'\").strip('\"')\n",
    "                    }\n",
    "    return "
   ]
  },
  {
   "cell_type": "code",
   "execution_count": 48,
   "metadata": {
    "collapsed": true
   },
   "outputs": [],
   "source": [
    "### function extracting the input ports\n",
    "\n",
    "def input_ports(line,in_ports):\n",
    "    #print(\"Extracting Input ports.\")\n",
    "    \n",
    "    ## Extract data between \"(\" and \")\".\n",
    "    ## % FACT: has_in_port(step_id, port_id).\n",
    "\n",
    "    data = line[line.index(\"(\")+1:line.index(\")\")]\n",
    "    \n",
    "    data = data.split(',')\n",
    "    \n",
    "    in_ports[data[0]].append((data[0].strip(), data[1].strip()))\n",
    "    \n",
    "    return"
   ]
  },
  {
   "cell_type": "code",
   "execution_count": 49,
   "metadata": {
    "collapsed": true
   },
   "outputs": [],
   "source": [
    "### function extracting the output ports \n",
    "\n",
    "def output_ports(line,out_ports): \n",
    "    #print(\"Extracting output ports.\")\n",
    "    ## Extract data between \"(\" and \")\".\n",
    "    data = line[line.index(\"(\")+1:line.index(\")\")]\n",
    "    data = data.split(',')\n",
    "    out_ports[data[0]].append((data[0].strip(), data[1].strip()))\n",
    "    #print(data)\n",
    "    return"
   ]
  },
  {
   "cell_type": "code",
   "execution_count": 50,
   "metadata": {
    "collapsed": true
   },
   "outputs": [],
   "source": [
    "### function extracting the output ports \n",
    "\n",
    "def get_port_data(line): \n",
    "    #print(\"Extracting output ports.\")\n",
    "    ## Extract data between \"(\" and \")\".\n",
    "    data = line[line.index(\"(\")+1:line.index(\")\")]\n",
    "    data = data.split(',')\n",
    "    port_data[data[0]]= { \n",
    "                          \"data_name\" : data[1].strip(), \n",
    "                          \"qual_data_name\" : data[2].strip()\n",
    "                        } \n",
    "    #print(data)\n",
    "    return"
   ]
  },
  {
   "cell_type": "code",
   "execution_count": 51,
   "metadata": {
    "collapsed": true
   },
   "outputs": [],
   "source": [
    "### function extracting the output ports \n",
    "\n",
    "def get_channel(line): \n",
    "    #print(\"Extracting output ports.\")\n",
    "    ## Extract data between \"(\" and \")\".\n",
    "    data = line[line.index(\"(\")+1:line.index(\")\")]\n",
    "    data = data.split(',')\n",
    "    channel[data[0]]= data[1].strip()\n",
    "    #print(data)\n",
    "    return"
   ]
  },
  {
   "cell_type": "code",
   "execution_count": 52,
   "metadata": {
    "collapsed": true
   },
   "outputs": [],
   "source": [
    "### function extracting the output ports \n",
    "\n",
    "def get_port_connects_to_channel(line): \n",
    "     \n",
    "    data = line[line.index(\"(\")+1 : line.index(\")\")]\n",
    "    data = data.split(',')\n",
    "    port_connects_to_channel[data[0]]= data[1].strip()\n",
    "    #print(data)\n",
    "    return"
   ]
  },
  {
   "cell_type": "code",
   "execution_count": 53,
   "metadata": {
    "collapsed": true
   },
   "outputs": [],
   "source": [
    "def get_inflow_connections(line): \n",
    "     \n",
    "    #print(line)\n",
    "    data = line[line.index(\"(\")+1:line.index(\")\")]\n",
    "    data = data.split(',')\n",
    "    inflow_conn[data[0]]= data[1].strip()\n",
    "    #print(data)\n",
    "    return"
   ]
  },
  {
   "cell_type": "code",
   "execution_count": 54,
   "metadata": {
    "collapsed": true
   },
   "outputs": [],
   "source": [
    "def get_outflow_connections(line): \n",
    "    #print(\"Extracting output ports.\")\n",
    "    ## Extract data between \"(\" and \")\".\n",
    "    data = line[line.index(\"(\")+1:line.index(\")\")]\n",
    "    data = data.split(',')\n",
    "    outflow_conn[data[0]]= data[1].strip()\n",
    "    #print(data)\n",
    "    return "
   ]
  },
  {
   "cell_type": "code",
   "execution_count": 55,
   "metadata": {
    "collapsed": true
   },
   "outputs": [],
   "source": [
    "### function extracting the subprograms \n",
    "\n",
    "def has_subprogram(line): \n",
    "    #print(\"Extracting output ports.\")\n",
    "    ## Extract data between \"(\" and \")\".\n",
    "    data = line[line.index(\"(\")+1:line.index(\")\")]\n",
    "    data = data.split(',')\n",
    "    list1 = []\n",
    "    #print(data[0],data[1])\n",
    "    if data[0] in sub_programs.keys():\n",
    "        list1 = sub_programs[data[0]]\n",
    "        list1.append(data[1].strip())\n",
    "        sub_programs[data[0]] = list1\n",
    "    else:\n",
    "        list1.append(data[1].strip())\n",
    "        sub_programs[data[0]]= list1\n",
    "    #print(data)\n",
    "    return"
   ]
  },
  {
   "cell_type": "code",
   "execution_count": 56,
   "metadata": {
    "collapsed": true
   },
   "outputs": [],
   "source": [
    "### function extracting the port alias\n",
    "\n",
    "def port_alias(line):\n",
    "    data = line[line.index(\"(\")+1:line.index(\")\")]\n",
    "    data = data.split(',')\n",
    "    port_id = data[0].strip()\n",
    "    alias = data[1].strip().strip(\"'\")\n",
    "    \n",
    "    qualified_name = ports[port_id]['qualified_port_name']\n",
    "    port_name = ports[port_id]['port_name'] \n",
    "    \n",
    "    port_alias_name[port_id] = alias\n",
    "    \n",
    "    #print(port_name, port_id,qualified_name)\n",
    "    \n",
    "    ### regex for splitting the string and getting qualified program name\n",
    "    regex = re.compile(r'>|<')\n",
    "    qname = regex.split(qualified_name)\n",
    "    \n",
    "    pname = qname[0].split('.')[-1] \n",
    "    \n",
    "    if pname.find('-') > -1:\n",
    "        port_alt_name[alias] = pname[:-1]+ '/' +port_name\n",
    "    else:\n",
    "        port_alt_name[alias] = pname + '/' +port_name\n",
    "        \n",
    "    return \n",
    "\n"
   ]
  },
  {
   "cell_type": "code",
   "execution_count": 57,
   "metadata": {
    "collapsed": true
   },
   "outputs": [],
   "source": [
    "## Method for getting the input ports \n",
    "## for a specific program \n",
    "\n",
    "def get_in_ports(program_id):\n",
    "    #print(\"inside in ports\")\n",
    "    input_ports =[]\n",
    "    for s in in_ports[program_id]:\n",
    "        #print(s)\n",
    "        input_ports.append(ports[s[1]]['port_name'])\n",
    "        #print(ports[int(s[1])]['port_name'])\n",
    "    return input_ports"
   ]
  },
  {
   "cell_type": "code",
   "execution_count": 58,
   "metadata": {
    "collapsed": true
   },
   "outputs": [],
   "source": [
    "## Method for getting the output ports \n",
    "## for a specific program \n",
    "\n",
    "def get_out_ports(program_id):\n",
    "    output_ports =[]\n",
    "    for s in out_ports[program_id]:\n",
    "        output_ports.append(ports[s[1]]['port_name'])\n",
    "    return output_ports"
   ]
  },
  {
   "cell_type": "code",
   "execution_count": 59,
   "metadata": {
    "collapsed": true
   },
   "outputs": [],
   "source": [
    "## Method for create a cwl file \n",
    "## It has the required header and formatting\n",
    "\n",
    "def create_file(filename, program_id):\n",
    "    header = '''\n",
    "#!/usr/bin/env cwl-runner\n",
    "\n",
    "\n",
    "cwlVersion: v1.0\n",
    "class: CommandLineTool\n",
    "'''\n",
    "    with open(filename, \"w+\") as writer:\n",
    "        input_buffer = 'inputs: \\n'\n",
    "        for p in get_in_ports(program_id):\n",
    "            input_buffer = input_buffer + ' '+ p + ': \\n'+ '  type: string \\n \\n'\n",
    "\n",
    "        #print(input_buffer)\n",
    "        output_buffer = 'outputs: \\n'\n",
    "        output_buffer.strip()\n",
    "\n",
    "        for p in get_out_ports(program_id):\n",
    "            #print(len(p))\n",
    "            if p =='' : \n",
    "                print(\"No output ports\")\n",
    "            else:\n",
    "                output_buffer = output_buffer + ' '+ p + ': \\n'+ '  type: string \\n \\n'\n",
    "\n",
    "        writer.write(header)    \n",
    "        writer.write(input_buffer)\n",
    "        writer.write(output_buffer)\n",
    "        writer.write(\"\\n\")\n",
    "        writer.write(\"baseCommand: \")\n",
    "    \n",
    "    return"
   ]
  },
  {
   "cell_type": "code",
   "execution_count": 60,
   "metadata": {
    "collapsed": true
   },
   "outputs": [],
   "source": [
    "### This function passes file name \n",
    "### for creating cwl files. \n",
    "\n",
    "def create_cwl_files(program_id,wf_name): \n",
    "    pname= steps[program_id]['program_name']\n",
    "    filename = \"yw_cwl_parser/Examples/\" + wf_name +'/' + pname + \".cwl\"\n",
    "    create_file(filename, program_id)\n",
    "    \n",
    "    return "
   ]
  },
  {
   "cell_type": "code",
   "execution_count": 61,
   "metadata": {
    "collapsed": true
   },
   "outputs": [],
   "source": [
    "### Function for exrtacting the steps in a wf. \n",
    "\n",
    "def get_wf_steps(wf_id, wf_name):\n",
    "    \n",
    "    wf_steps = \"steps: \\n \" \n",
    "    \n",
    "    ## first get the sub-programs of a workflow: \n",
    "    for s in sub_programs[wf_id]:\n",
    "        prog_name= steps[s][\"program_name\"]\n",
    "        step_outports =[]\n",
    "        if s in workflow.keys():\n",
    "            filename ='wf_'+ prog_name + '.cwl'\n",
    "        else:\n",
    "            filename =  prog_name + '.cwl'\n",
    "            \n",
    "        step_buffer = prog_name + ': \\n ' + ' run: ' + filename + ' \\n ' + ' in: \\n'\n",
    "        \n",
    "        for pid in in_ports[s]:\n",
    "            out_in_ports(s)\n",
    "            pname, qual_pname= get_inports_subprograms(pid[1], wf_id)\n",
    "            #print(pname, qual_pname, pid[1])\n",
    "            step_buffer = step_buffer + '   ' + pname + ': ' + qual_pname + '\\n' \n",
    "            '''\n",
    "            Get the outports of the program.\n",
    "            '''\n",
    "            \n",
    "            step_outports= get_out_ports(s)\n",
    "            if len(step_outports) == 0: \n",
    "                print(\"The step \" + prog_name + \" doesn't have output ports. CWL model will fail.\")\n",
    "                \n",
    "        step_buffer =  step_buffer + \"  out: [\" + ' , '.join(step_outports) + '] \\n ' \n",
    "        \n",
    "        wf_steps = wf_steps + step_buffer\n",
    "    \n",
    "    return wf_steps"
   ]
  },
  {
   "cell_type": "code",
   "execution_count": 62,
   "metadata": {
    "collapsed": true
   },
   "outputs": [],
   "source": [
    "def get_set_outports(program_id):\n",
    "    set_outports = {}\n",
    "    for p in range(int(program_id), 1, -1):\n",
    "        #print(p)\n",
    "        for o in out_ports[str(p)]:\n",
    "            set_outports[ports[o[1]]['data_id']] = p\n",
    "    \n",
    "    #print(set_outports)\n",
    "    return set_outports"
   ]
  },
  {
   "cell_type": "code",
   "execution_count": 63,
   "metadata": {
    "collapsed": true
   },
   "outputs": [],
   "source": [
    "def out_in_ports(program_id):\n",
    "    \n",
    "    #print(steps[program_id][\"program_name\"])\n",
    "    for ip in in_ports[program_id]:\n",
    "        op_set = get_set_outports(program_id)\n",
    "        #print(op_set)\n",
    "        data_id = ports[ip[1]]['data_id']\n",
    "        common_data_id = set([data_id]).intersection(set(op_set.keys()))\n",
    "      \n",
    "    ## Check if input port dataid is an output port \n",
    "    ## dataid of some previous or same step\n",
    "    \n",
    "        if common_data_id:\n",
    "            pid = list(common_data_id)[0]\n",
    "            prid = op_set[pid] \n",
    "            prog_name= steps[str(prid)][\"program_name\"] +'/'\n",
    "            #print(prog_name)\n",
    "            #if program_id in sub_programs.keys():\n",
    "            #    prog_name=''\n",
    "\n",
    "            for o in out_ports[str(prid)]:\n",
    "                if ports[o[1]][\"data_id\"] == pid:\n",
    "                    port_name = ports[o[1]][\"port_name\"]\n",
    "                    out_in_port[data_id]= prog_name + port_name\n",
    "            \n",
    "            '''\n",
    "            if pid in port_alias_name.keys():\n",
    "                port_name = ports[pid][\"port_name\"]\n",
    "            else:\n",
    "                port_name = port_data[pid][\"data_name\"].strip(\"'\")\n",
    "                \n",
    "            out_in_port[data_id]= prog_name +'/'+ port_name\n",
    "            '''"
   ]
  },
  {
   "cell_type": "code",
   "execution_count": 64,
   "metadata": {
    "collapsed": true
   },
   "outputs": [],
   "source": [
    "def get_qual_port_name(port_name):\n",
    "    regex = re.compile(r'>|<')\n",
    "    for port in sorted(ports):\n",
    "        #print(ports[port][\"port_name\"])\n",
    "        if ports[port][\"port_name\"] == port_name:\n",
    "            \n",
    "            temp = regex.split(ports[port]['qualified_port_name'])\n",
    "            step_name= temp[0].split('.')[-1]\n",
    "            qname = step_name[:-1]\n",
    "            if qname == steps['1'][\"program_name\"] and str(temp).find('.') > -1:          \n",
    "                return qname\n",
    "            elif qname != steps['1'][\"program_name\"]:\n",
    "                return qname "
   ]
  },
  {
   "cell_type": "code",
   "execution_count": 65,
   "metadata": {
    "collapsed": true
   },
   "outputs": [],
   "source": [
    "## Get the inports of the subprograms\n",
    "\n",
    "def get_inports_subprograms(port_id,wf_id):\n",
    "    \n",
    "    qualified_port=''\n",
    "    pname = ports[port_id][\"port_name\"]\n",
    "    data_id = ports[port_id][\"data_id\"]\n",
    "    #print(pname)\n",
    "    a = set([port_id]).intersection(set(list(port_alias_name.keys())))\n",
    "    #print(a)\n",
    "\n",
    "    if data_id in out_in_port.keys():\n",
    "        qualified_port = out_in_port[data_id]\n",
    "    elif pname in get_in_ports(wf_id):\n",
    "        qualified_port = pname\n",
    "    #elif pname in in_out_ports.keys():\n",
    "    #    qualified_port = in_out_ports[pname][1]\n",
    "    elif a:\n",
    "        for e in a:\n",
    "            #print(port_alias_name[e])\n",
    "            if port_alias_name[e] in get_in_ports('1'):\n",
    "                qualified_port = port_alias_name[e]\n",
    "            else:\n",
    "                qualified_port = get_qual_port_name(port_alias_name[e])\n",
    "    \n",
    "    return pname, qualified_port "
   ]
  },
  {
   "cell_type": "code",
   "execution_count": 66,
   "metadata": {
    "collapsed": true
   },
   "outputs": [],
   "source": [
    "def get_wf_outports(port_id):\n",
    "    \n",
    "    pname = ports[port_id][\"port_name\"]   \n",
    "\n",
    "    ch_id = outflow_conn[port_id]\n",
    "    #conn_pid = \n",
    "    for p in port_connects_to_channel:\n",
    "        if port_connects_to_channel[p] == ch_id:\n",
    "            conn_pid = p\n",
    "    port_name = ports[conn_pid][\"port_name\"]\n",
    "    #print(port_name)\n",
    "    qname = get_qual_port_name(port_name) + '/' + port_name\n",
    "\n",
    "\n",
    "    return pname, qname"
   ]
  },
  {
   "cell_type": "code",
   "execution_count": 67,
   "metadata": {
    "collapsed": true
   },
   "outputs": [],
   "source": [
    "def get_in_out_ports():\n",
    "    for sid in steps.keys(): \n",
    "        for id in range(0,len(steps)+1):\n",
    "            a = set(get_in_ports(str(id))).intersection(set(get_out_ports(str(sid))))\n",
    "            #print(a)\n",
    "            if len(a) > 0 : \n",
    "                for elem in a: \n",
    "                    #print(steps[str(id)][\"program_name\"] , \"\\t\\t\", steps[sid][\"program_name\"]+\"/\"+ elem )\n",
    "                    in_out_ports[elem] = [steps[str(id)][\"program_name\"], steps[sid][\"program_name\"]+\"/\"+ elem]\n",
    "                "
   ]
  },
  {
   "cell_type": "code",
   "execution_count": 68,
   "metadata": {
    "collapsed": true
   },
   "outputs": [],
   "source": [
    "## function for getting the ports with the program name\n",
    "def link_wf_ports(workflow_id):\n",
    "    wf_out_ports=[]\n",
    "    \n",
    "    for sp in sub_programs[workflow_id]:\n",
    "        for p in set(get_out_ports(workflow_id)).intersection(set(get_out_ports(sp))):\n",
    "            wf_out_ports.append(steps[sp]['program_name']+ '/' + p)\n",
    "    \n",
    "    return wf_out_ports"
   ]
  },
  {
   "cell_type": "code",
   "execution_count": 69,
   "metadata": {
    "collapsed": true
   },
   "outputs": [],
   "source": [
    "def workflow_detail(program_id, wf_name):\n",
    "    header = '''\n",
    "#!/usr/bin/env cwl-runner\n",
    "cwlVersion: v1.0\n",
    "class: Workflow\n",
    "requirements:\n",
    "    - class: SubworkflowFeatureRequirement\n",
    "'''\n",
    "    input_buffer = 'inputs: \\n'\n",
    "\n",
    "    for p in get_in_ports(program_id):\n",
    "        input_buffer = input_buffer.strip('') + '  '+ p + ': \\n'+ '   type: string \\n'\n",
    "        \n",
    "    output_buffer = 'outputs: \\n'\n",
    "    #out_wf_ports = link_wf_ports(program_id)\n",
    "    \n",
    "    for port in out_ports[program_id]:\n",
    "        #print(port)\n",
    "        pname, qname = get_wf_outports(port[1])         \n",
    "        output_buffer = output_buffer + '  ' +  pname  + ': \\n'+ '   type: string \\n   outputSource: '+ qname +'\\n'\n",
    "\n",
    "\n",
    "    wf_step = get_wf_steps(program_id, wf_name)\n",
    "    \n",
    "    #print(wf_step)\n",
    "    return header, input_buffer, output_buffer, wf_step "
   ]
  },
  {
   "cell_type": "code",
   "execution_count": 70,
   "metadata": {
    "collapsed": true
   },
   "outputs": [],
   "source": [
    "def create_wf_file(filename, program_id,wf_name):\n",
    "    #filename = 'wf_' + steps['1'][\"program_name\"] + '.cwl'\n",
    "\n",
    "    with open(filename, 'w+') as file_writer:\n",
    "        hdr, inp_buff, out_buff, wf_step = workflow_detail(program_id,wf_name)\n",
    "        file_writer.write(hdr)\n",
    "        file_writer.write(inp_buff)\n",
    "        file_writer.write(out_buff)\n",
    "        file_writer.write(wf_step)"
   ]
  },
  {
   "cell_type": "code",
   "execution_count": 71,
   "metadata": {
    "collapsed": true
   },
   "outputs": [],
   "source": [
    "def read_yw_model(filename):\n",
    "    regex = re.compile(r'^%')\n",
    "    chk_channel = re.compile(r'^ch')\n",
    "    with open(filename, \"r\") as yw_struct:\n",
    "        line = yw_struct.readline()\n",
    "        while line:\n",
    "            #print(line)\n",
    "            comments = regex.match(line)\n",
    "            if comments: \n",
    "                #print(line)\n",
    "                line = yw_struct.readline()\n",
    "            else:  \n",
    "                if(\"program(\" in line and \"has_subprogram\" not in line):\n",
    "                    extract_steps(line)\n",
    "                elif(\"workflow(\" in line):\n",
    "                    extract_workflows(line)            \n",
    "                elif(\"has_subprogram(\" in line):\n",
    "                    has_subprogram(line)            \n",
    "                elif(\"port(\" in line  and \"has_in_port(\" not in line and \"has_out_port\" not in line):\n",
    "                #    print(line)\n",
    "                    extract_ports(line)\n",
    "                elif(\"has_in_port(\" in line):\n",
    "                    input_ports(line,in_ports)\n",
    "                elif(\"has_out_port(\" in line ):\n",
    "                    output_ports(line,out_ports)\n",
    "                elif (\"port_alias(\" in line ): \n",
    "                    port_alias(line)\n",
    "                elif(\"data(\" in line):\n",
    "                    get_port_data(line)\n",
    "                elif(\"port_connects_to_channel(\" in line):\n",
    "                    #print(line)\n",
    "                    get_port_connects_to_channel(line)\n",
    "                elif(\"inflow_connects_to_channel(\"in line):\n",
    "                    #print(line)\n",
    "                    get_inflow_connections(line)                    \n",
    "                elif(\"outflow_connects_to_channel(\"in line):\n",
    "                    get_outflow_connections(line)\n",
    "                elif( chk_channel.match(line) ):\n",
    "                    get_channel(line)\n",
    "\n",
    "                line = yw_struct.readline()\n",
    "        \n",
    "        #get_in_out_ports()"
   ]
  },
  {
   "cell_type": "code",
   "execution_count": 72,
   "metadata": {},
   "outputs": [],
   "source": [
    "steps = {}\n",
    "ports = {}\n",
    "workflow = {}\n",
    "in_ports = defaultdict(list)\n",
    "out_ports = defaultdict(list)\n",
    "sub_programs = {}\n",
    "port_alias_name= {}\n",
    "port_alt_name={}\n",
    "in_out_ports={}\n",
    "out_in_port={}\n",
    "cnt =0\n",
    "\n",
    "qualified_port=''\n",
    "channel={}\n",
    "port_data={}\n",
    "port_connects_to_channel={}\n",
    "inflow_conn={}\n",
    "outflow_conn={}\n",
    "\n",
    "yw_model_file = \"yw_cwl_parser/Examples/clean_name_and_date_workflow/clean_name_and_date_workflow.P\"\n",
    "\n",
    "read_yw_model(yw_model_file)\n",
    "for w in sorted(workflow, reverse=True):\n",
    "    dir_name = steps['1'][\"program_name\"]\n",
    "    \n",
    "    wf_name = steps[w][\"program_name\"]\n",
    "    \n",
    "    #print(w)\n",
    "    '''\n",
    "        Get the steps name and generate the files\n",
    "        for those steps.\n",
    "    '''\n",
    "    for sp in sub_programs[w]:\n",
    "        #print(sp)\n",
    "        create_cwl_files(sp,dir_name)\n",
    "    '''\n",
    "        Get the workflow name and generate the files\n",
    "        for those workflows.\n",
    "    '''\n",
    "    filename = 'yw_cwl_parser/Examples/' + dir_name + '/wf_' + steps[w][\"program_name\"] + '.cwl'\n",
    "    #print(filename)\n",
    "    create_wf_file(filename,w, wf_name)\n"
   ]
  },
  {
   "cell_type": "code",
   "execution_count": null,
   "metadata": {},
   "outputs": [],
   "source": [
    "workflow"
   ]
  },
  {
   "cell_type": "code",
   "execution_count": 31,
   "metadata": {},
   "outputs": [
    {
     "data": {
      "text/plain": [
       "{'101': '\"updated_eventDate\"',\n",
       " '104': '\"updated_eventDate\"',\n",
       " '105': '\"compliant_eventDate\"',\n",
       " '107': '\"accepted_record_count\"',\n",
       " '109': '\"others\"',\n",
       " '110': '\"updated_eventDate\"',\n",
       " '111': '\"compliant_eventDate\"',\n",
       " '112': '\"empty_eventDate\"',\n",
       " '114': '\"accepted_record_count\"',\n",
       " '115': '\"rejected_record_count\"',\n",
       " '15': '\"scientificName\"',\n",
       " '16': '\"authorship\"',\n",
       " '18': '\"others\"',\n",
       " '21': '\"scientificName\"',\n",
       " '23': '\"empty_scientificName\"',\n",
       " '24': '\"nonEmpty_scientificName\"',\n",
       " '27': '\"empty_scientificName\"',\n",
       " '32': '\"nonEmpty_scientificName\"',\n",
       " '35': '\"exactMatching_local_authority_source_record\"',\n",
       " '36': '\"fuzzyMatching_local_authority_source_record\"',\n",
       " '37': '\"nonMatching_local_authority_source_record\"',\n",
       " '42': '\"nonEmpty_scientificName\"',\n",
       " '43': '\"nonMatching_local_authority_source_record\"',\n",
       " '46': '\"nonEmpty_scientificName\"',\n",
       " '47': '\"fuzzyMatching_local_authority_source_record\"',\n",
       " '49': '\"fuzzyMatching_local_authority_source_record\"',\n",
       " '50': '\"authorship\"',\n",
       " '54': '\"authorship\"',\n",
       " '55': '\"nonEmpty_scientificName\"',\n",
       " '59': '\"nonEmpty_scientificName\"',\n",
       " '62': '\"others\"',\n",
       " '63': '\"empty_scientificName\"',\n",
       " '64': '\"nonEmpty_scientificName\"',\n",
       " '65': '\"authorship\"',\n",
       " '79': '\"eventDate\"',\n",
       " '81': '\"others\"',\n",
       " '83': '\"eventDate\"',\n",
       " '85': '\"empty_eventDate\"',\n",
       " '86': '\"nonEmpty_eventDate\"',\n",
       " '89': '\"empty_eventDate\"',\n",
       " '92': '\"rejected_record_count\"',\n",
       " '94': '\"nonEmpty_eventDate\"',\n",
       " '96': '\"compliant_eventDate\"',\n",
       " '97': '\"nonCompliant_eventDate\"',\n",
       " '99': '\"nonCompliant_eventDate\"'}"
      ]
     },
     "execution_count": 31,
     "metadata": {},
     "output_type": "execute_result"
    }
   ],
   "source": [
    "port_alias_name"
   ]
  },
  {
   "cell_type": "markdown",
   "metadata": {},
   "source": [
    "for w in sorted(workflow, reverse=True): \n",
    "    wf_name = steps[w][\"program_name\"]\n",
    "    #print(wf_name)\n",
    "    #wf_name ='main'\n",
    "    for sp in sub_programs[w]:\n",
    "        create_cwl_files(sp,wf_name)\n",
    "\n",
    "    filename = 'Examples/' + wf_name + '/wf_' + steps[w][\"program_name\"] + '.cwl'\n",
    "    create_wf_file(filename,w, wf_name)\n",
    "    "
   ]
  },
  {
   "cell_type": "code",
   "execution_count": null,
   "metadata": {
    "collapsed": true
   },
   "outputs": [],
   "source": []
  }
 ],
 "metadata": {
  "kernelspec": {
   "display_name": "Python 3",
   "language": "python",
   "name": "python3"
  },
  "language_info": {
   "codemirror_mode": {
    "name": "ipython",
    "version": 3
   },
   "file_extension": ".py",
   "mimetype": "text/x-python",
   "name": "python",
   "nbconvert_exporter": "python",
   "pygments_lexer": "ipython3",
   "version": "3.6.3"
  }
 },
 "nbformat": 4,
 "nbformat_minor": 2
}
