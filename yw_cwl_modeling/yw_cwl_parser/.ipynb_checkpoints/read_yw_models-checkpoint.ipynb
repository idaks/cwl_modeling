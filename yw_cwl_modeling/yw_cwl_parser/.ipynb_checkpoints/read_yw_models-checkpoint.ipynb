{
 "cells": [
  {
   "cell_type": "code",
   "execution_count": 1,
   "metadata": {},
   "outputs": [],
   "source": [
    "import os \n",
    "from collections import defaultdict\n"
   ]
  },
  {
   "cell_type": "code",
   "execution_count": 2,
   "metadata": {},
   "outputs": [],
   "source": [
    "def extract_steps(line):\n",
    "    \n",
    "    #% FACT: program(program_id, program_name, qualified_program_name, begin_annotation_id, end_annotation_id).\n",
    "    #print(\"Extracting steps.\")\n",
    "    ## Extract data between \"(\" and \")\".\n",
    "    data = line[line.index(\"(\")+1:line.index(\")\")]\n",
    "    \n",
    "    data = data.split(',')\n",
    "    #print(data)\n",
    "    steps[data[0]] = {\n",
    "                      \"program_name\" :data[1].strip().strip(\"'\"),\n",
    "                      \"qualified_program_name\": data[2].strip().strip(\"'\")\n",
    "                    }\n",
    "    \n",
    "    #print(steps)\n",
    "    return"
   ]
  },
  {
   "cell_type": "code",
   "execution_count": 3,
   "metadata": {
    "collapsed": true
   },
   "outputs": [],
   "source": [
    "def extract_workflows(line):\n",
    "    \n",
    "    data = line[line.index(\"(\")+1:line.index(\")\")]\n",
    "    workflow[data[0]] = steps[data[0]]['program_name']\n",
    "    return "
   ]
  },
  {
   "cell_type": "code",
   "execution_count": 4,
   "metadata": {
    "collapsed": true
   },
   "outputs": [],
   "source": [
    "def extract_ports(line):\n",
    "    #print(\"Extracting ports.\")\n",
    "    ## Extract data between \"(\" and \")\".\n",
    "    data = line[line.index(\"(\")+1:line.index(\")\")]\n",
    "    \n",
    "    #% FACT: port(port_id, port_type, port_name, qualified_port_name, port_annotation_id, data_id).\n",
    "    \n",
    "    data = data.split(',')\n",
    "    \n",
    "    ports[int(data[0])] = {\n",
    "                             \"port_type\": data[1].strip().strip(\"'\").upper(),\n",
    "                             \"port_name\": data[2].strip().strip(\"'\"),\n",
    "                             \"qualified_port_name\" : data[3].strip().strip(\"'\"), \n",
    "                             \"data_id\":data[5].strip().strip(\"'\")\n",
    "                            }\n",
    "    return "
   ]
  },
  {
   "cell_type": "code",
   "execution_count": 6,
   "metadata": {},
   "outputs": [],
   "source": [
    "\n",
    "def input_ports(line,in_ports):\n",
    "    #print(\"Extracting Input ports.\")\n",
    "    \n",
    "    ## Extract data between \"(\" and \")\".\n",
    "    ## % FACT: has_in_port(step_id, port_id).\n",
    "\n",
    "    data = line[line.index(\"(\")+1:line.index(\")\")]\n",
    "    \n",
    "    data = data.split(',')\n",
    "    \n",
    "    in_ports[data[0]].append((data[0], data[1]))\n",
    "    \n",
    "    return"
   ]
  },
  {
   "cell_type": "code",
   "execution_count": 7,
   "metadata": {},
   "outputs": [],
   "source": [
    "def output_ports(line,out_ports): \n",
    "    #print(\"Extracting output ports.\")\n",
    "    ## Extract data between \"(\" and \")\".\n",
    "    data = line[line.index(\"(\")+1:line.index(\")\")]\n",
    "    data = data.split(',')\n",
    "    out_ports[data[0]].append((data[0], data[1]))\n",
    "    #print(data)\n",
    "    return"
   ]
  },
  {
   "cell_type": "code",
   "execution_count": 41,
   "metadata": {},
   "outputs": [],
   "source": [
    "steps = {}\n",
    "ports = {}\n",
    "workflow = {}\n",
    "in_ports = defaultdict(list)\n",
    "out_ports = defaultdict(list)\n",
    "cnt =0\n",
    "with open(\"models/paleocar_models.P\", \"r\") as yw_struct:\n",
    "    line = yw_struct.readline()\n",
    "    while line:\n",
    "        if(\"program(\" in line and \"% FACT\" not in line and \"has_subprogram\" not in line):\n",
    "            extract_steps(line)\n",
    "        elif(\"workflow(\" in line and \"% FACT\" not in line):\n",
    "            extract_workflows(line)            \n",
    "        elif(\"port(\" in line and \"% FACT:\" not in line and \"has_in_port(\" not in line and \"has_out_port\" not in line):\n",
    "        #    print(line)\n",
    "            extract_ports(line)\n",
    "        elif(\"has_in_port(\" in line and \"% FACT\" not in line):\n",
    "            input_ports(line,in_ports)\n",
    "        elif(\"has_out_port(\" in line and \"% FACT\" not in line):\n",
    "            output_ports(line,out_ports)\n",
    "           \n",
    "        line = yw_struct.readline()"
   ]
  },
  {
   "cell_type": "code",
   "execution_count": 42,
   "metadata": {},
   "outputs": [
    {
     "data": {
      "text/plain": [
       "{'data_id': '1',\n",
       " 'port_name': 'prediction_years',\n",
       " 'port_type': 'IN',\n",
       " 'qualified_port_name': 'gen_paleocar_model<-prediction_years'}"
      ]
     },
     "execution_count": 42,
     "metadata": {},
     "output_type": "execute_result"
    }
   ],
   "source": [
    "ports[1]"
   ]
  },
  {
   "cell_type": "code",
   "execution_count": 43,
   "metadata": {},
   "outputs": [],
   "source": [
    "def get_in_ports(program_id):\n",
    "    #print(\"inside in ports\")\n",
    "    input_ports =[]\n",
    "    for s in in_ports[program_id.strip()]:\n",
    "        #print(s)\n",
    "        input_ports.append(ports[int(s[1])]['port_name'])\n",
    "        #print(ports[int(s[1])]['port_name'])\n",
    "    return input_ports"
   ]
  },
  {
   "cell_type": "code",
   "execution_count": 44,
   "metadata": {
    "collapsed": true
   },
   "outputs": [],
   "source": [
    "def get_out_ports(program_id):\n",
    "    output_ports =[]\n",
    "    \n",
    "    for s in out_ports[program_id.strip()]:\n",
    "        output_ports.append(ports[int(s[1])]['port_name'])\n",
    "    return output_ports"
   ]
  },
  {
   "cell_type": "code",
   "execution_count": 45,
   "metadata": {},
   "outputs": [
    {
     "data": {
      "text/plain": [
       "['itrdb', 'calibration_years', 'min_width']"
      ]
     },
     "execution_count": 45,
     "metadata": {},
     "output_type": "execute_result"
    }
   ],
   "source": [
    "get_in_ports('3')"
   ]
  },
  {
   "cell_type": "code",
   "execution_count": 46,
   "metadata": {},
   "outputs": [
    {
     "name": "stdout",
     "output_type": "stream",
     "text": [
      "[]\n"
     ]
    },
    {
     "data": {
      "text/plain": [
       "{1: {'data_id': '1',\n",
       "  'port_name': 'prediction_years',\n",
       "  'port_type': 'IN',\n",
       "  'qualified_port_name': 'gen_paleocar_model<-prediction_years'},\n",
       " 2: {'data_id': '2',\n",
       "  'port_name': 'prism_data_for_coordinates',\n",
       "  'port_type': 'IN',\n",
       "  'qualified_port_name': 'gen_paleocar_model<-prism_data_for_coordinates'},\n",
       " 3: {'data_id': '3',\n",
       "  'port_name': 'itrdb',\n",
       "  'port_type': 'IN',\n",
       "  'qualified_port_name': 'gen_paleocar_model<-itrdb'},\n",
       " 4: {'data_id': '4',\n",
       "  'port_name': 'calibration_years',\n",
       "  'port_type': 'IN',\n",
       "  'qualified_port_name': 'gen_paleocar_model<-calibration_years'},\n",
       " 5: {'data_id': '5',\n",
       "  'port_name': 'min_width',\n",
       "  'port_type': 'IN',\n",
       "  'qualified_port_name': 'gen_paleocar_model<-min_width'},\n",
       " 6: {'data_id': '6',\n",
       "  'port_name': 'verbose',\n",
       "  'port_type': 'IN',\n",
       "  'qualified_port_name': 'gen_paleocar_model<-verbose'},\n",
       " 7: {'data_id': '7',\n",
       "  'port_name': 'paleocar_models',\n",
       "  'port_type': 'OUT',\n",
       "  'qualified_port_name': 'gen_paleocar_model->paleocar_models'},\n",
       " 8: {'data_id': '8',\n",
       "  'port_name': 'verbose',\n",
       "  'port_type': 'IN',\n",
       "  'qualified_port_name': 'gen_paleocar_model.print_message<-verbose'},\n",
       " 9: {'data_id': '9',\n",
       "  'port_name': 'itrdb',\n",
       "  'port_type': 'PARAM',\n",
       "  'qualified_port_name': 'gen_paleocar_model.get_predictor_matrix<-itrdb'},\n",
       " 10: {'data_id': '10',\n",
       "  'port_name': 'calibration_years',\n",
       "  'port_type': 'PARAM',\n",
       "  'qualified_port_name': 'gen_paleocar_model.get_predictor_matrix<-calibration_years'},\n",
       " 11: {'data_id': '11',\n",
       "  'port_name': 'min_width',\n",
       "  'port_type': 'PARAM',\n",
       "  'qualified_port_name': 'gen_paleocar_model.get_predictor_matrix<-min_width'},\n",
       " 12: {'data_id': '12',\n",
       "  'port_name': 'predictor_matrix',\n",
       "  'port_type': 'OUT',\n",
       "  'qualified_port_name': 'gen_paleocar_model.get_predictor_matrix->predictor_matrix'},\n",
       " 13: {'data_id': '13',\n",
       "  'port_name': 'max_preds',\n",
       "  'port_type': 'OUT',\n",
       "  'qualified_port_name': 'gen_paleocar_model.get_predictor_matrix->max_preds'},\n",
       " 14: {'data_id': '9',\n",
       "  'port_name': 'itrdb',\n",
       "  'port_type': 'IN',\n",
       "  'qualified_port_name': 'gen_paleocar_model.get_reconstruction_matrix<-itrdb'},\n",
       " 15: {'data_id': '14',\n",
       "  'port_name': 'prediction_years',\n",
       "  'port_type': 'IN',\n",
       "  'qualified_port_name': 'gen_paleocar_model.get_reconstruction_matrix<-prediction_years'},\n",
       " 16: {'data_id': '11',\n",
       "  'port_name': 'min_width',\n",
       "  'port_type': 'PARAM',\n",
       "  'qualified_port_name': 'gen_paleocar_model.get_reconstruction_matrix<-min_width'},\n",
       " 17: {'data_id': '15',\n",
       "  'port_name': 'reconstruction_matrix',\n",
       "  'port_type': 'OUT',\n",
       "  'qualified_port_name': 'gen_paleocar_model.get_reconstruction_matrix->reconstruction_matrix'},\n",
       " 18: {'data_id': '15',\n",
       "  'port_name': 'reconstruction_matrix',\n",
       "  'port_type': 'IN',\n",
       "  'qualified_port_name': 'gen_paleocar_model.get_predlist<-reconstruction_matrix'},\n",
       " 19: {'data_id': '16',\n",
       "  'port_name': 'predlist',\n",
       "  'port_type': 'OUT',\n",
       "  'qualified_port_name': 'gen_paleocar_model.get_predlist->predlist'},\n",
       " 20: {'data_id': '17',\n",
       "  'port_name': 'prism_data_for_coordinates',\n",
       "  'port_type': 'IN',\n",
       "  'qualified_port_name': 'gen_paleocar_model.get_carscores<-prism_data_for_coordinates'},\n",
       " 21: {'data_id': '12',\n",
       "  'port_name': 'predictor_matrix',\n",
       "  'port_type': 'IN',\n",
       "  'qualified_port_name': 'gen_paleocar_model.get_carscores<-predictor_matrix'},\n",
       " 22: {'data_id': '18',\n",
       "  'port_name': 'carscores',\n",
       "  'port_type': 'OUT',\n",
       "  'qualified_port_name': 'gen_paleocar_model.get_carscores->carscores'},\n",
       " 23: {'data_id': '16',\n",
       "  'port_name': 'predlist',\n",
       "  'port_type': 'IN',\n",
       "  'qualified_port_name': 'gen_paleocar_model.calculate_Models<-predlist'},\n",
       " 24: {'data_id': '18',\n",
       "  'port_name': 'carscores',\n",
       "  'port_type': 'IN',\n",
       "  'qualified_port_name': 'gen_paleocar_model.calculate_Models<-carscores'},\n",
       " 25: {'data_id': '13',\n",
       "  'port_name': 'max_preds',\n",
       "  'port_type': 'IN',\n",
       "  'qualified_port_name': 'gen_paleocar_model.calculate_Models<-max_preds'},\n",
       " 26: {'data_id': '19',\n",
       "  'port_name': 'linear_models',\n",
       "  'port_type': 'OUT',\n",
       "  'qualified_port_name': 'gen_paleocar_model.calculate_Models->linear_models'},\n",
       " 27: {'data_id': '20',\n",
       "  'port_name': 'predlist',\n",
       "  'port_type': 'IN',\n",
       "  'qualified_port_name': 'gen_paleocar_model.calculate_Models.defineLinearModels<-predlist'},\n",
       " 28: {'data_id': '21',\n",
       "  'port_name': 'carscores',\n",
       "  'port_type': 'IN',\n",
       "  'qualified_port_name': 'gen_paleocar_model.calculate_Models.defineLinearModels<-carscores'},\n",
       " 29: {'data_id': '22',\n",
       "  'port_name': 'max_preds',\n",
       "  'port_type': 'IN',\n",
       "  'qualified_port_name': 'gen_paleocar_model.calculate_Models.defineLinearModels<-max_preds'},\n",
       " 30: {'data_id': '23',\n",
       "  'port_name': 'models',\n",
       "  'port_type': 'OUT',\n",
       "  'qualified_port_name': 'gen_paleocar_model.calculate_Models.defineLinearModels->models'},\n",
       " 31: {'data_id': '24',\n",
       "  'port_name': 'matches',\n",
       "  'port_type': 'OUT',\n",
       "  'qualified_port_name': 'gen_paleocar_model.calculate_Models.defineLinearModels->matches'},\n",
       " 32: {'data_id': '23',\n",
       "  'port_name': 'models',\n",
       "  'port_type': 'IN',\n",
       "  'qualified_port_name': 'gen_paleocar_model.calculate_Models.calculateLinearModels<-models'},\n",
       " 33: {'data_id': '24',\n",
       "  'port_name': 'matches',\n",
       "  'port_type': 'IN',\n",
       "  'qualified_port_name': 'gen_paleocar_model.calculate_Models.calculateLinearModels<-matches'},\n",
       " 34: {'data_id': '25',\n",
       "  'port_name': 'coefficients',\n",
       "  'port_type': 'OUT',\n",
       "  'qualified_port_name': 'gen_paleocar_model.calculate_Models.calculateLinearModels->coefficients'},\n",
       " 35: {'data_id': '26',\n",
       "  'port_name': 'model_errors',\n",
       "  'port_type': 'OUT',\n",
       "  'qualified_port_name': 'gen_paleocar_model.calculate_Models.calculateLinearModels->model_errors'},\n",
       " 36: {'data_id': '25',\n",
       "  'port_name': 'coefficients',\n",
       "  'port_type': 'IN',\n",
       "  'qualified_port_name': 'gen_paleocar_model.calculate_Models.simplifyLinearModels<-coefficients'},\n",
       " 37: {'data_id': '26',\n",
       "  'port_name': 'model_errors',\n",
       "  'port_type': 'IN',\n",
       "  'qualified_port_name': 'gen_paleocar_model.calculate_Models.simplifyLinearModels<-model_errors'},\n",
       " 38: {'data_id': '27',\n",
       "  'port_name': 'final_models',\n",
       "  'port_type': 'OUT',\n",
       "  'qualified_port_name': 'gen_paleocar_model.calculate_Models.simplifyLinearModels->final_models'},\n",
       " 39: {'data_id': '19',\n",
       "  'port_name': 'linear_models',\n",
       "  'port_type': 'IN',\n",
       "  'qualified_port_name': 'gen_paleocar_model.optimizeModels<-linear_models'},\n",
       " 40: {'data_id': '28',\n",
       "  'port_name': 'paleocar_models',\n",
       "  'port_type': 'OUT',\n",
       "  'qualified_port_name': 'gen_paleocar_model.optimizeModels->paleocar_models'}}"
      ]
     },
     "execution_count": 46,
     "metadata": {},
     "output_type": "execute_result"
    }
   ],
   "source": [
    "out_ports['3']\n",
    "print(get_out_ports('2'))\n",
    "\n",
    "ports"
   ]
  },
  {
   "cell_type": "code",
   "execution_count": 47,
   "metadata": {},
   "outputs": [
    {
     "name": "stdout",
     "output_type": "stream",
     "text": [
      "['verbose']\n",
      "['itrdb', 'calibration_years', 'min_width']\n",
      "['itrdb', 'prediction_years', 'min_width']\n",
      "['reconstruction_matrix']\n",
      "['prism_data_for_coordinates', 'predictor_matrix']\n",
      "['predlist', 'carscores', 'max_preds']\n",
      "['predlist', 'carscores', 'max_preds']\n",
      "['models', 'matches']\n",
      "['coefficients', 'model_errors']\n",
      "['linear_models']\n"
     ]
    }
   ],
   "source": [
    "for sname in steps:\n",
    "    if sname != '1':\n",
    "        print(get_in_ports(sname))\n",
    "        #print(steps[sname]['program_name'] + \":\" + get_out_ports(sname))"
   ]
  },
  {
   "cell_type": "code",
   "execution_count": 62,
   "metadata": {},
   "outputs": [
    {
     "name": "stdout",
     "output_type": "stream",
     "text": [
      "inputs: \n",
      "  itrdb: \n",
      "  type: string \n",
      " \n",
      "  calibration_years: \n",
      "  type: string \n",
      " \n",
      "  min_width: \n",
      "  type: string \n",
      " \n",
      "  \n",
      "outputs: \n",
      " predictor_matrix: \n",
      "  type: string \n",
      "max_preds: \n",
      "  type: string \n",
      "\n"
     ]
    }
   ],
   "source": [
    "### \n",
    "filename = \"cwl_files/\"+ workflow['1'] + \".cwl\"\n",
    "#print(filename)\n",
    "\n",
    "header = '''\n",
    "#!/usr/bin/env cwl-runner\n",
    "\n",
    "\n",
    "cwlVersion: v1.0\n",
    "class: CommandLineTool\n",
    "\n",
    "\n",
    "'''\n",
    "with open(filename, \"w+\") as writer:\n",
    "    input_buffer = 'inputs: \\n  '\n",
    "    for p in get_in_ports('3'):\n",
    "        input_buffer = input_buffer + p + ': \\n  type: string \\n \\n'\n",
    "    \n",
    "    print(input_buffer)\n",
    "    output_buffer = '''\n",
    "    outputs: \\n  '\n",
    "    '''\n",
    "    \n",
    "    for p in get_out_ports('3'):\n",
    "        #print(len(p))\n",
    "        if p =='' : \n",
    "            print(\"No output ports\")\n",
    "        else:\n",
    "            output_buffer = output_buffer + p + \": \\n  type: string \\n\"\n",
    "    \n",
    "    print (output_buffer)\n",
    "    writer.write(header)    \n",
    "    writer.write(input_buffer)\n",
    "    writer.write(output_buffer)\n",
    "    writer.write(\"\\n\")\n",
    "    writer.write(\"baseCommand: \")    "
   ]
  },
  {
   "cell_type": "code",
   "execution_count": null,
   "metadata": {
    "collapsed": true
   },
   "outputs": [],
   "source": [
    "def cwl_inputs(program_id):\n",
    "    input_ports = get_in_ports(program_id)\n",
    "    return input_ports"
   ]
  },
  {
   "cell_type": "code",
   "execution_count": null,
   "metadata": {},
   "outputs": [],
   "source": [
    "get_in_ports('1')"
   ]
  },
  {
   "cell_type": "code",
   "execution_count": null,
   "metadata": {},
   "outputs": [],
   "source": [
    "get_in_ports('4')"
   ]
  },
  {
   "cell_type": "code",
   "execution_count": null,
   "metadata": {
    "collapsed": true
   },
   "outputs": [],
   "source": []
  }
 ],
 "metadata": {
  "kernelspec": {
   "display_name": "Python 3",
   "language": "python",
   "name": "python3"
  },
  "language_info": {
   "codemirror_mode": {
    "name": "ipython",
    "version": 3
   },
   "file_extension": ".py",
   "mimetype": "text/x-python",
   "name": "python",
   "nbconvert_exporter": "python",
   "pygments_lexer": "ipython3",
   "version": "3.6.3"
  }
 },
 "nbformat": 4,
 "nbformat_minor": 2
}
