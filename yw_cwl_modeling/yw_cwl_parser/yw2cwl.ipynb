{
 "cells": [
  {
   "cell_type": "code",
   "execution_count": 70,
   "metadata": {},
   "outputs": [],
   "source": [
    "import os\n",
    "import re\n",
    "from collections import defaultdict\n"
   ]
  },
  {
   "cell_type": "markdown",
   "metadata": {},
   "source": [
    "### Functions for parsing the yw models file. "
   ]
  },
  {
   "cell_type": "code",
   "execution_count": 71,
   "metadata": {},
   "outputs": [],
   "source": [
    "### function extracting the programs.\n",
    "\n",
    "def extract_steps(line):\n",
    "    \n",
    "    #% FACT: program(program_id, program_name, qualified_program_name, begin_annotation_id, end_annotation_id).\n",
    "    #print(\"Extracting steps.\")\n",
    "    ## Extract data between \"(\" and \")\".\n",
    "    data = line[line.index(\"(\")+1:line.index(\")\")]\n",
    "    \n",
    "    data = data.split(',')\n",
    "    #print(data)\n",
    "    steps[data[0]] = {\n",
    "                      \"program_name\" :data[1].strip().strip(\"'\"),\n",
    "                      \"qualified_program_name\": data[2].strip().strip(\"'\")\n",
    "                    }\n",
    "    \n",
    "    #print(steps)\n",
    "    return"
   ]
  },
  {
   "cell_type": "code",
   "execution_count": 72,
   "metadata": {},
   "outputs": [],
   "source": [
    "### function extracting the workflow.\n",
    "\n",
    "def extract_workflows(line):\n",
    "    \n",
    "    #print(line)\n",
    "    data = line[line.index(\"(\")+1:line.index(\")\")]\n",
    "    workflow[data[0]] = steps[data[0]]['program_name']\n",
    "    return "
   ]
  },
  {
   "cell_type": "code",
   "execution_count": 73,
   "metadata": {},
   "outputs": [],
   "source": [
    "### function extracting the ports\n",
    "\n",
    "def extract_ports(line):\n",
    "    #print(\"Extracting ports.\")\n",
    "    ## Extract data between \"(\" and \")\".\n",
    "    data = line[line.index(\"(\")+1:line.index(\")\")]\n",
    "    \n",
    "    #% FACT: port(port_id, port_type, port_name, qualified_port_name, port_annotation_id, data_id).\n",
    "    \n",
    "    data = data.split(',')\n",
    "    \n",
    "    ports[data[0]] ={\n",
    "                     \"port_type\": data[1].strip().strip(\"'\").upper(),\n",
    "                     \"port_name\": data[2].strip().strip(\"'\"),\n",
    "                     \"qualified_port_name\" : data[3].strip().strip(\"'\"), \n",
    "                     \"data_id\":data[5].strip().strip(\"'\")\n",
    "                    }\n",
    "    return "
   ]
  },
  {
   "cell_type": "code",
   "execution_count": 74,
   "metadata": {},
   "outputs": [],
   "source": [
    "### function extracting the input ports\n",
    "\n",
    "def input_ports(line,in_ports):\n",
    "    #print(\"Extracting Input ports.\")\n",
    "    \n",
    "    ## Extract data between \"(\" and \")\".\n",
    "    ## % FACT: has_in_port(step_id, port_id).\n",
    "\n",
    "    data = line[line.index(\"(\")+1:line.index(\")\")]\n",
    "    \n",
    "    data = data.split(',')\n",
    "    \n",
    "    in_ports[data[0]].append((data[0].strip(), data[1].strip()))\n",
    "    \n",
    "    return"
   ]
  },
  {
   "cell_type": "code",
   "execution_count": 75,
   "metadata": {},
   "outputs": [],
   "source": [
    "### function extracting the output ports \n",
    "\n",
    "def output_ports(line,out_ports): \n",
    "    #print(\"Extracting output ports.\")\n",
    "    ## Extract data between \"(\" and \")\".\n",
    "    data = line[line.index(\"(\")+1:line.index(\")\")]\n",
    "    data = data.split(',')\n",
    "    out_ports[data[0]].append((data[0].strip(), data[1].strip()))\n",
    "    #print(data)\n",
    "    return"
   ]
  },
  {
   "cell_type": "code",
   "execution_count": 76,
   "metadata": {},
   "outputs": [],
   "source": [
    "### function extracting the subprograms \n",
    "\n",
    "def has_subprogram(line): \n",
    "    #print(\"Extracting output ports.\")\n",
    "    ## Extract data between \"(\" and \")\".\n",
    "    data = line[line.index(\"(\")+1:line.index(\")\")]\n",
    "    data = data.split(',')\n",
    "    list1 = []\n",
    "    #print(data[0],data[1])\n",
    "    if data[0] in sub_programs.keys():\n",
    "        list1 = sub_programs[data[0]]\n",
    "        list1.append(data[1].strip())\n",
    "        sub_programs[data[0]] = list1\n",
    "    else:\n",
    "        list1.append(data[1].strip())\n",
    "        sub_programs[data[0]]= list1\n",
    "    #print(data)\n",
    "    return"
   ]
  },
  {
   "cell_type": "code",
   "execution_count": 77,
   "metadata": {},
   "outputs": [],
   "source": [
    "### function extracting the port alias\n",
    "\n",
    "def port_alias(line):\n",
    "    data = line[line.index(\"(\")+1:line.index(\")\")]\n",
    "    data = data.split(',')\n",
    "    port_id = data[0].strip()\n",
    "    alias = data[1].strip().strip(\"'\")\n",
    "    \n",
    "    qualified_name = ports[port_id]['qualified_port_name']\n",
    "    port_name = ports[port_id]['port_name'] \n",
    "    \n",
    "    port_alias_name[port_id] = alias\n",
    "    \n",
    "    #print(port_name, port_id,qualified_name)\n",
    "    \n",
    "    ### regex for splitting the string and getting qualified program name\n",
    "    regex = re.compile(r'>|<')\n",
    "    qname = regex.split(qualified_name)\n",
    "    \n",
    "    pname = qname[0].split('.')[-1] \n",
    "    \n",
    "    if pname.find('-') > -1:\n",
    "        port_alt_name[alias] = pname[:-1]+ '/' +port_name\n",
    "    else:\n",
    "        port_alt_name[alias] = pname + '/' +port_name\n",
    "        \n",
    "    return \n",
    "\n"
   ]
  },
  {
   "cell_type": "code",
   "execution_count": 78,
   "metadata": {},
   "outputs": [],
   "source": [
    "## Method for getting the input ports \n",
    "## for a specific program \n",
    "\n",
    "def get_in_ports(program_id):\n",
    "    #print(\"inside in ports\")\n",
    "    input_ports =[]\n",
    "    for s in in_ports[program_id]:\n",
    "        #print(s)\n",
    "        input_ports.append(ports[s[1]]['port_name'])\n",
    "        #print(ports[int(s[1])]['port_name'])\n",
    "    return input_ports"
   ]
  },
  {
   "cell_type": "code",
   "execution_count": 79,
   "metadata": {},
   "outputs": [],
   "source": [
    "## Method for getting the output ports \n",
    "## for a specific program \n",
    "\n",
    "def get_out_ports(program_id):\n",
    "    output_ports =[]\n",
    "    \n",
    "    for s in out_ports[program_id]:\n",
    "        output_ports.append(ports[s[1]]['port_name'])\n",
    "    return output_ports"
   ]
  },
  {
   "cell_type": "code",
   "execution_count": 80,
   "metadata": {},
   "outputs": [],
   "source": [
    "## Method for create a cwl file \n",
    "## It has the required header and formatting\n",
    "\n",
    "def create_file(filename, program_id):\n",
    "    header = '''\n",
    "#!/usr/bin/env cwl-runner\n",
    "\n",
    "\n",
    "cwlVersion: v1.0\n",
    "class: CommandLineTool\n",
    "'''\n",
    "    with open(filename, \"w+\") as writer:\n",
    "        input_buffer = 'inputs: \\n'\n",
    "        for p in get_in_ports(program_id):\n",
    "            input_buffer = input_buffer + ' '+ p + ': \\n'+ '  type: string \\n \\n'\n",
    "\n",
    "        #print(input_buffer)\n",
    "        output_buffer = 'outputs: \\n'\n",
    "        output_buffer.strip()\n",
    "\n",
    "        for p in get_out_ports(program_id):\n",
    "            #print(len(p))\n",
    "            if p =='' : \n",
    "                print(\"No output ports\")\n",
    "            else:\n",
    "                output_buffer = output_buffer + ' '+ p + ': \\n'+ '  type: string \\n \\n'\n",
    "\n",
    "        writer.write(header)    \n",
    "        writer.write(input_buffer)\n",
    "        writer.write(output_buffer)\n",
    "        writer.write(\"\\n\")\n",
    "        writer.write(\"baseCommand: \")\n",
    "    \n",
    "    return"
   ]
  },
  {
   "cell_type": "code",
   "execution_count": 81,
   "metadata": {},
   "outputs": [],
   "source": [
    "### This function passes file name \n",
    "### for creating cwl files. \n",
    "\n",
    "def create_cwl_files(program_id,wf_name): \n",
    "    pname= steps[program_id]['program_name']\n",
    "    filename = \"Examples/\" + wf_name +'/' + pname + \".cwl\"\n",
    "    create_file(filename, program_id)\n",
    "    \n",
    "    return "
   ]
  },
  {
   "cell_type": "code",
   "execution_count": 82,
   "metadata": {},
   "outputs": [],
   "source": [
    "### Function for exrtacting the steps in a wf. \n",
    "\n",
    "def get_wf_steps(wf_id, wf_name):\n",
    "    \n",
    "    wf_steps = \"steps: \\n \" \n",
    "    \n",
    "    ## first get the sub-programs of a workflow: \n",
    "    for s in sub_programs[wf_id]:\n",
    "        filename =  steps[s][\"program_name\"] + '.cwl'\n",
    "        step_buffer = steps[s][\"program_name\"] + ': \\n ' + ' run: ' + filename + ' \\n ' + ' in: \\n'\n",
    "        \n",
    "        for pid in in_ports[s]:\n",
    "            pname, qual_pname= get_inports_subprograms(pid[1])\n",
    "            step_buffer = step_buffer + '   ' + pname + ': ' + qual_pname + '\\n' \n",
    "            \n",
    "        step_buffer =  step_buffer + \"  out: [\" + ' , '.join(get_out_ports(s)) + '] \\n ' \n",
    "        \n",
    "        wf_steps = wf_steps + step_buffer\n",
    "    \n",
    "    return wf_steps"
   ]
  },
  {
   "cell_type": "code",
   "execution_count": 83,
   "metadata": {},
   "outputs": [],
   "source": [
    "def get_qual_port_name(port_name):\n",
    "    regex = re.compile(r'>|<')\n",
    "    for port in sorted(ports):\n",
    "        #print(ports[port][\"port_name\"])\n",
    "        if ports[port][\"port_name\"] == port_name:\n",
    "            \n",
    "            temp = regex.split(ports[port]['qualified_port_name'])\n",
    "            qname = temp[0].split('.')[-1]\n",
    "            qname = qname[:-1]\n",
    "            #print(qname)\n",
    "            #print(steps['1'][\"program_name\"])\n",
    "            \n",
    "            if qname != steps['1'][\"program_name\"]:          \n",
    "                 return qname"
   ]
  },
  {
   "cell_type": "code",
   "execution_count": 84,
   "metadata": {},
   "outputs": [
    {
     "name": "stdout",
     "output_type": "stream",
     "text": [
      "None\n"
     ]
    }
   ],
   "source": [
    "print(get_qual_port_name('prediction_plot'))"
   ]
  },
  {
   "cell_type": "code",
   "execution_count": 85,
   "metadata": {},
   "outputs": [],
   "source": [
    "## Get the inports of the subprograms\n",
    "\n",
    "def get_inports_subprograms(port_id):\n",
    "    \n",
    "    pname = ports[port_id][\"port_name\"]\n",
    "    #print(pname)\n",
    "    a = set(port_id).intersection(set(list(port_alias_name.keys())))\n",
    "    if a:\n",
    "        for e in a:\n",
    "            #print(port_alias_name[e])\n",
    "            if port_alias_name[e] in get_in_ports('1'):\n",
    "                qualified_port = port_alias_name[e]\n",
    "            else:\n",
    "                qualified_port = get_qual_port_name(port_alias_name[e])\n",
    "    \n",
    "    elif pname in get_in_ports('1'):\n",
    "        qualified_port = pname\n",
    "    \n",
    "    elif pname in in_out_ports.keys():\n",
    "        qualified_port = in_out_ports[pname][1]\n",
    "    \n",
    "    return pname,qualified_port "
   ]
  },
  {
   "cell_type": "code",
   "execution_count": 86,
   "metadata": {},
   "outputs": [],
   "source": [
    "def get_wf_outports(port_id):\n",
    "    \n",
    "    pname = ports[port_id][\"port_name\"]   \n",
    "    \n",
    "    if pname in port_alt_name.keys():\n",
    "        qname = port_alt_name[pname]\n",
    "    else:       \n",
    "        qname = get_qual_port_name(pname) +'/'+pname\n",
    "        \n",
    "    \n",
    "    return pname, qname"
   ]
  },
  {
   "cell_type": "code",
   "execution_count": 87,
   "metadata": {},
   "outputs": [],
   "source": [
    "def get_in_out_ports():\n",
    "    for sid in steps.keys(): \n",
    "        for id in range(0,len(steps)+1):\n",
    "            a = set(get_in_ports(str(id))).intersection(set(get_out_ports(str(sid))))\n",
    "            #print(a)\n",
    "            if len(a) > 0 : \n",
    "                for elem in a: \n",
    "                    #print(steps[str(id)][\"program_name\"] , \"\\t\\t\", steps[sid][\"program_name\"]+\"/\"+ elem )\n",
    "                    in_out_ports[elem] = [steps[str(id)][\"program_name\"], steps[sid][\"program_name\"]+\"/\"+ elem]\n",
    "                "
   ]
  },
  {
   "cell_type": "code",
   "execution_count": 88,
   "metadata": {},
   "outputs": [],
   "source": [
    "## function for getting the ports with the program name\n",
    "def link_wf_ports(workflow_id):\n",
    "    wf_out_ports=[]\n",
    "    \n",
    "    for sp in sub_programs[workflow_id]:\n",
    "        for p in set(get_out_ports(workflow_id)).intersection(set(get_out_ports(sp))):\n",
    "            wf_out_ports.append(steps[sp]['program_name']+ '/' + p)\n",
    "    \n",
    "    return wf_out_ports"
   ]
  },
  {
   "cell_type": "code",
   "execution_count": 89,
   "metadata": {},
   "outputs": [],
   "source": [
    "def workflow_detail(program_id, wf_name):\n",
    "    header = '''\n",
    "#!/usr/bin/env cwl-runner\n",
    "cwlVersion: v1.0\n",
    "class: Workflow\n",
    "requirements:\n",
    "    - class: SubworkflowFeatureRequirement\n",
    "'''\n",
    "    input_buffer = 'inputs: \\n'\n",
    "\n",
    "    for p in get_in_ports(program_id):\n",
    "        input_buffer = input_buffer.strip('') + '  '+ p + ': \\n'+ '   type: string \\n'\n",
    "        \n",
    "    output_buffer = 'outputs: \\n'\n",
    "    #out_wf_ports = link_wf_ports(program_id)\n",
    "    \n",
    "    for port in out_ports[program_id]:\n",
    "        pname, qname = get_wf_outports(port[1])\n",
    "        output_buffer = output_buffer + '  ' +  pname  + ': \\n'+ '   type: string \\n   outputSource: '+ qname +'\\n'\n",
    "\n",
    "    #print(output_buffer)\n",
    "    #print(header.strip(''), input_buffer.strip(''), output_buffer.strip())\n",
    "    #print(wf_name)\n",
    "    wf_step = get_wf_steps(program_id, wf_name)\n",
    "    \n",
    "    #print(wf_step)\n",
    "    return header, input_buffer, output_buffer, wf_step "
   ]
  },
  {
   "cell_type": "code",
   "execution_count": 90,
   "metadata": {},
   "outputs": [],
   "source": [
    "def create_wf_file(filename, program_id,wf_name):\n",
    "    #filename = 'wf_' + steps['1'][\"program_name\"] + '.cwl'\n",
    "\n",
    "    with open(filename, 'w+') as file_writer:\n",
    "        hdr, inp_buff, out_buff, wf_step = workflow_detail(program_id,wf_name)\n",
    "        file_writer.write(hdr)\n",
    "        file_writer.write(inp_buff)\n",
    "        file_writer.write(out_buff)\n",
    "        file_writer.write(wf_step)"
   ]
  },
  {
   "cell_type": "code",
   "execution_count": 91,
   "metadata": {},
   "outputs": [],
   "source": [
    "def read_yw_model(filename):\n",
    "   \n",
    "    with open(filename, \"r\") as yw_struct:\n",
    "        line = yw_struct.readline()\n",
    "        while line:\n",
    "            #print(line)\n",
    "            comments = regex.match(line)\n",
    "            if comments: \n",
    "                #print(line)\n",
    "                line = yw_struct.readline()\n",
    "            else:  \n",
    "                if(\"program(\" in line and \"has_subprogram\" not in line):\n",
    "                    extract_steps(line)\n",
    "                elif(\"workflow(\" in line):\n",
    "                    extract_workflows(line)            \n",
    "                elif(\"has_subprogram(\" in line):\n",
    "                    has_subprogram(line)            \n",
    "                elif(\"port(\" in line  and \"has_in_port(\" not in line and \"has_out_port\" not in line):\n",
    "                #    print(line)\n",
    "                    extract_ports(line)\n",
    "                elif(\"has_in_port(\" in line):\n",
    "                    input_ports(line,in_ports)\n",
    "                elif(\"has_out_port(\" in line ):\n",
    "                    output_ports(line,out_ports)\n",
    "                elif (\"port_alias(\" in line ): \n",
    "                    port_alias(line)\n",
    "\n",
    "                line = yw_struct.readline()\n",
    "            get_in_out_ports()"
   ]
  },
  {
   "cell_type": "code",
   "execution_count": 93,
   "metadata": {},
   "outputs": [],
   "source": [
    "steps = {}\n",
    "ports = {}\n",
    "workflow = {}\n",
    "in_ports = defaultdict(list)\n",
    "out_ports = defaultdict(list)\n",
    "sub_programs = {}\n",
    "port_alias_name= {}\n",
    "port_alt_name={}\n",
    "cnt =0\n",
    "regex = re.compile(r'^%')\n",
    "in_out_ports = {} \n",
    "qualified_port=''\n",
    "\n",
    "yw_model_file = \"Examples/get_tree_ring_values/get_tree_ring_values.P\"\n",
    "\n",
    "read_yw_model(yw_model_file)\n",
    "\n",
    "for w in sorted(workflow, reverse=True): \n",
    "    wf_name = steps[w][\"program_name\"]\n",
    "    #print(wf_name)\n",
    "    #wf_name ='main'\n",
    "    for sp in sub_programs[w]:\n",
    "        create_cwl_files(sp,wf_name)\n",
    "\n",
    "    filename = 'Examples/' + wf_name + '/wf_' + steps[w][\"program_name\"] + '.cwl'\n",
    "    create_wf_file(filename,w, wf_name)\n",
    "    "
   ]
  },
  {
   "cell_type": "code",
   "execution_count": 69,
   "metadata": {},
   "outputs": [
    {
     "data": {
      "text/plain": [
       "{}"
      ]
     },
     "execution_count": 69,
     "metadata": {},
     "output_type": "execute_result"
    }
   ],
   "source": [
    "in_out_ports"
   ]
  },
  {
   "cell_type": "code",
   "execution_count": null,
   "metadata": {},
   "outputs": [],
   "source": []
  }
 ],
 "metadata": {
  "kernelspec": {
   "display_name": "Python 3",
   "language": "python",
   "name": "python3"
  },
  "language_info": {
   "codemirror_mode": {
    "name": "ipython",
    "version": 3
   },
   "file_extension": ".py",
   "mimetype": "text/x-python",
   "name": "python",
   "nbconvert_exporter": "python",
   "pygments_lexer": "ipython3",
   "version": "3.6.4"
  }
 },
 "nbformat": 4,
 "nbformat_minor": 2
}
