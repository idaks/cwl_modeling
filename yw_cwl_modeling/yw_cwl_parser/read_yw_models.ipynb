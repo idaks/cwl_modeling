{
 "cells": [
  {
   "cell_type": "code",
   "execution_count": 56,
   "metadata": {},
   "outputs": [
    {
     "name": "stdout",
     "output_type": "stream",
     "text": [
      "Extracting steps.\n",
      "Extracting steps.\n"
     ]
    }
   ],
   "source": [
    "import os \n",
    "\n",
    "steps = {}\n",
    "ports = {}\n",
    "cnt =0\n",
    "with open(\"models/extract_prism_data.P\", \"r\") as yw_struct:\n",
    "    line = yw_struct.readline()\n",
    "    while line:\n",
    "        if(\"program(\" in line and \"% FACT\" not in line):\n",
    "            extract_steps(line)\n",
    "        elif(\"ports(\" in line and \"% FACT\" not in line):\n",
    "            extract_ports(line)\n",
    "        elif(\"has_in_port(\" in line and \"% FACT\" not in line):\n",
    "            steps_in_ports(line)\n",
    "        elif(\"has_out_port(\" in line and \"% FACT\" not in line):\n",
    "            steps_out_ports(line)\n",
    "\n",
    "            \n",
    "        line = yw_struct.readline()\n",
    "        if (cnt > 3):\n",
    "            break \n",
    "        else:\n",
    "            cnt +=1\n"
   ]
  },
  {
   "cell_type": "code",
   "execution_count": 55,
   "metadata": {},
   "outputs": [],
   "source": [
    "def extract_steps(line):\n",
    "    \n",
    "    print(\"Extracting steps.\")\n",
    "    ## Extract data between \"(\" and \")\".\n",
    "    data = line[line.index(\"(\")+1:line.index(\")\")]\n",
    "    \n",
    "    data = data.split(',')\n",
    "           \n",
    "    return"
   ]
  },
  {
   "cell_type": "code",
   "execution_count": 41,
   "metadata": {},
   "outputs": [
    {
     "data": {
      "text/plain": [
       "\"1, 'extract_prism_data', 'extract_prism_data', 1, 12\""
      ]
     },
     "execution_count": 41,
     "metadata": {},
     "output_type": "execute_result"
    }
   ],
   "source": [
    "fact = \"program(1, 'extract_prism_data', 'extract_prism_data', 1, 12).\"\n",
    "\n",
    "fact = fact[fact.index(\"(\")+1:fact.index(\")\")]\n",
    "\n",
    "dict([line.split() for line in f]) \n"
   ]
  },
  {
   "cell_type": "code",
   "execution_count": 53,
   "metadata": {
    "collapsed": true
   },
   "outputs": [],
   "source": [
    "def extract_ports(data):\n",
    "    print(\"Extracting ports.\")\n",
    "    ## Extract data between \"(\" and \")\".\n",
    "    data = line[line.index(\"(\")+1:line.index(\")\")]\n",
    "    \n",
    "    data = data.split(',')\n",
    "    return \n",
    "def steps_in_ports(data):\n",
    "    print(\"Extracting Input ports.\")\n",
    "    ## Extract data between \"(\" and \")\".\n",
    "    data = line[line.index(\"(\")+1:line.index(\")\")]\n",
    "    \n",
    "    data = data.split(',')\n",
    "    return\n",
    "def steps_out_ports(data): \n",
    "    print(\"Extracting output ports.\")\n",
    "    ## Extract data between \"(\" and \")\".\n",
    "    data = line[line.index(\"(\")+1:line.index(\")\")]\n",
    "    \n",
    "    data = data.split(',')\n",
    "    return"
   ]
  },
  {
   "cell_type": "code",
   "execution_count": null,
   "metadata": {
    "collapsed": true
   },
   "outputs": [],
   "source": []
  }
 ],
 "metadata": {
  "kernelspec": {
   "display_name": "Python 3",
   "language": "python",
   "name": "python3"
  },
  "language_info": {
   "codemirror_mode": {
    "name": "ipython",
    "version": 3
   },
   "file_extension": ".py",
   "mimetype": "text/x-python",
   "name": "python",
   "nbconvert_exporter": "python",
   "pygments_lexer": "ipython3",
   "version": "3.6.3"
  }
 },
 "nbformat": 4,
 "nbformat_minor": 2
}
