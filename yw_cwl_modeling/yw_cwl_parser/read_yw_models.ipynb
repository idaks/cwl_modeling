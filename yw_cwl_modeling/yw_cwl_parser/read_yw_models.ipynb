{
 "cells": [
  {
   "cell_type": "code",
   "execution_count": 1,
   "metadata": {
    "collapsed": true
   },
   "outputs": [],
   "source": [
    "import os \n",
    "from collections import defaultdict\n"
   ]
  },
  {
   "cell_type": "code",
   "execution_count": 2,
   "metadata": {
    "collapsed": true
   },
   "outputs": [],
   "source": [
    "def extract_steps(line):\n",
    "    \n",
    "    #% FACT: program(program_id, program_name, qualified_program_name, begin_annotation_id, end_annotation_id).\n",
    "    #print(\"Extracting steps.\")\n",
    "    ## Extract data between \"(\" and \")\".\n",
    "    data = line[line.index(\"(\")+1:line.index(\")\")]\n",
    "    \n",
    "    data = data.split(',')\n",
    "    #print(data)\n",
    "    steps[data[0]] = {\n",
    "                      \"program_name\" :data[1].strip().strip(\"'\"),\n",
    "                      \"qualified_program_name\": data[2].strip().strip(\"'\")\n",
    "                    }\n",
    "    \n",
    "    #print(steps)\n",
    "    return"
   ]
  },
  {
   "cell_type": "code",
   "execution_count": 3,
   "metadata": {
    "collapsed": true
   },
   "outputs": [],
   "source": [
    "def extract_workflows(line):\n",
    "    \n",
    "    data = line[line.index(\"(\")+1:line.index(\")\")]\n",
    "    workflow[data[0]] = steps[data[0]]['program_name']\n",
    "    return "
   ]
  },
  {
   "cell_type": "code",
   "execution_count": 4,
   "metadata": {
    "collapsed": true
   },
   "outputs": [],
   "source": [
    "def extract_ports(line):\n",
    "    #print(\"Extracting ports.\")\n",
    "    ## Extract data between \"(\" and \")\".\n",
    "    data = line[line.index(\"(\")+1:line.index(\")\")]\n",
    "    \n",
    "    #% FACT: port(port_id, port_type, port_name, qualified_port_name, port_annotation_id, data_id).\n",
    "    \n",
    "    data = data.split(',')\n",
    "    \n",
    "    ports[int(data[0])] = {\n",
    "                             \"port_type\": data[1].strip().strip(\"'\").upper(),\n",
    "                             \"port_name\": data[2].strip().strip(\"'\"),\n",
    "                             \"qualified_port_name\" : data[3].strip().strip(\"'\"), \n",
    "                             \"data_id\":data[5].strip().strip(\"'\")\n",
    "                            }\n",
    "    return "
   ]
  },
  {
   "cell_type": "code",
   "execution_count": 5,
   "metadata": {
    "collapsed": true
   },
   "outputs": [],
   "source": [
    "\n",
    "def input_ports(line,in_ports):\n",
    "    #print(\"Extracting Input ports.\")\n",
    "    \n",
    "    ## Extract data between \"(\" and \")\".\n",
    "    ## % FACT: has_in_port(step_id, port_id).\n",
    "\n",
    "    data = line[line.index(\"(\")+1:line.index(\")\")]\n",
    "    \n",
    "    data = data.split(',')\n",
    "    \n",
    "    in_ports[data[0]].append((data[0].strip(), data[1].strip()))\n",
    "    \n",
    "    return"
   ]
  },
  {
   "cell_type": "code",
   "execution_count": 6,
   "metadata": {
    "collapsed": true
   },
   "outputs": [],
   "source": [
    "def output_ports(line,out_ports): \n",
    "    #print(\"Extracting output ports.\")\n",
    "    ## Extract data between \"(\" and \")\".\n",
    "    data = line[line.index(\"(\")+1:line.index(\")\")]\n",
    "    data = data.split(',')\n",
    "    out_ports[data[0]].append((data[0].strip(), data[1].strip()))\n",
    "    #print(data)\n",
    "    return"
   ]
  },
  {
   "cell_type": "code",
   "execution_count": 7,
   "metadata": {
    "collapsed": true
   },
   "outputs": [],
   "source": [
    "def has_subprogram(line): \n",
    "    #print(\"Extracting output ports.\")\n",
    "    ## Extract data between \"(\" and \")\".\n",
    "    data = line[line.index(\"(\")+1:line.index(\")\")]\n",
    "    data = data.split(',')\n",
    "    list1 = []\n",
    "    #print(data[0],data[1])\n",
    "    if data[0] in sub_programs.keys():\n",
    "        list1 = sub_programs[data[0]]\n",
    "        list1.append(data[1].strip())\n",
    "        sub_programs[data[0]] = list1\n",
    "    else:\n",
    "        list1.append(data[1].strip())\n",
    "        sub_programs[data[0]]= list1\n",
    "    #print(data)\n",
    "    return"
   ]
  },
  {
   "cell_type": "code",
   "execution_count": 8,
   "metadata": {},
   "outputs": [],
   "source": [
    "steps = {}\n",
    "ports = {}\n",
    "workflow = {}\n",
    "in_ports = defaultdict(list)\n",
    "out_ports = defaultdict(list)\n",
    "sub_programs = {}\n",
    "cnt =0\n",
    "with open(\"models/paleocar_models.P\", \"r\") as yw_struct:\n",
    "    line = yw_struct.readline()\n",
    "    while line:\n",
    "        if(\"program(\" in line and \"% FACT\" not in line and \"has_subprogram\" not in line):\n",
    "            extract_steps(line)\n",
    "        elif(\"workflow(\" in line and \"% FACT\" not in line):\n",
    "            extract_workflows(line)            \n",
    "        elif(\"has_subprogram(\" in line and \"% FACT\" not in line):\n",
    "            has_subprogram(line)            \n",
    "        elif(\"port(\" in line and \"% FACT:\" not in line and \"has_in_port(\" not in line and \"has_out_port\" not in line):\n",
    "        #    print(line)\n",
    "            extract_ports(line)\n",
    "        elif(\"has_in_port(\" in line and \"% FACT\" not in line):\n",
    "            input_ports(line,in_ports)\n",
    "        elif(\"has_out_port(\" in line and \"% FACT\" not in line):\n",
    "            output_ports(line,out_ports)\n",
    "            \n",
    "           \n",
    "        line = yw_struct.readline()"
   ]
  },
  {
   "cell_type": "code",
   "execution_count": 9,
   "metadata": {},
   "outputs": [
    {
     "data": {
      "text/plain": [
       "{'1': ['2', '3', '4', '5', '6', '7', '11'], '7': ['8', '9', '10']}"
      ]
     },
     "execution_count": 9,
     "metadata": {},
     "output_type": "execute_result"
    }
   ],
   "source": [
    "sub_programs"
   ]
  },
  {
   "cell_type": "code",
   "execution_count": 10,
   "metadata": {
    "collapsed": true
   },
   "outputs": [],
   "source": [
    "def get_in_ports(program_id):\n",
    "    #print(\"inside in ports\")\n",
    "    input_ports =[]\n",
    "    for s in in_ports[program_id.strip()]:\n",
    "        #print(s)\n",
    "        input_ports.append(ports[int(s[1])]['port_name'])\n",
    "        #print(ports[int(s[1])]['port_name'])\n",
    "    return input_ports"
   ]
  },
  {
   "cell_type": "code",
   "execution_count": 11,
   "metadata": {
    "collapsed": true
   },
   "outputs": [],
   "source": [
    "def get_out_ports(program_id):\n",
    "    output_ports =[]\n",
    "    \n",
    "    for s in out_ports[program_id.strip()]:\n",
    "        output_ports.append(ports[int(s[1])]['port_name'])\n",
    "    return output_ports"
   ]
  },
  {
   "cell_type": "code",
   "execution_count": 12,
   "metadata": {},
   "outputs": [
    {
     "data": {
      "text/plain": [
       "['itrdb', 'calibration_years', 'min_width']"
      ]
     },
     "execution_count": 12,
     "metadata": {},
     "output_type": "execute_result"
    }
   ],
   "source": [
    "get_in_ports('3')"
   ]
  },
  {
   "cell_type": "code",
   "execution_count": 13,
   "metadata": {},
   "outputs": [
    {
     "data": {
      "text/plain": [
       "defaultdict(list,\n",
       "            {'1': [('1', '1'),\n",
       "              ('1', '2'),\n",
       "              ('1', '3'),\n",
       "              ('1', '4'),\n",
       "              ('1', '5'),\n",
       "              ('1', '6')],\n",
       "             '10': [('10', '36'), ('10', '37')],\n",
       "             '11': [('11', '39')],\n",
       "             '2': [('2', '8')],\n",
       "             '3': [('3', '9'), ('3', '10'), ('3', '11')],\n",
       "             '4': [('4', '14'), ('4', '15'), ('4', '16')],\n",
       "             '5': [('5', '18')],\n",
       "             '6': [('6', '20'), ('6', '21')],\n",
       "             '7': [('7', '23'), ('7', '24'), ('7', '25')],\n",
       "             '8': [('8', '27'), ('8', '28'), ('8', '29')],\n",
       "             '9': [('9', '32'), ('9', '33')]})"
      ]
     },
     "execution_count": 13,
     "metadata": {},
     "output_type": "execute_result"
    }
   ],
   "source": [
    "in_ports"
   ]
  },
  {
   "cell_type": "code",
   "execution_count": 14,
   "metadata": {
    "collapsed": true
   },
   "outputs": [],
   "source": [
    "def write_file(filename, program_id):\n",
    "    header = '''\n",
    "#!/usr/bin/env cwl-runner\n",
    "\n",
    "\n",
    "cwlVersion: v1.0\n",
    "class: CommandLineTool\n",
    "'''\n",
    "    with open(filename, \"w+\") as writer:\n",
    "        input_buffer = 'inputs: \\n'\n",
    "        for p in get_in_ports(program_id):\n",
    "            input_buffer = input_buffer + ' '+ p + ': \\n'+ '  type: string \\n \\n'\n",
    "\n",
    "        #print(input_buffer)\n",
    "        output_buffer = 'outputs: \\n'\n",
    "        output_buffer.strip()\n",
    "\n",
    "        for p in get_out_ports(program_id):\n",
    "            #print(len(p))\n",
    "            if p =='' : \n",
    "                print(\"No output ports\")\n",
    "            else:\n",
    "                output_buffer = output_buffer + ' '+ p + ': \\n'+ '  type: string \\n \\n'\n",
    "\n",
    "        #print (output_buffer)\n",
    "        writer.write(header)    \n",
    "        writer.write(input_buffer)\n",
    "        writer.write(output_buffer)\n",
    "        writer.write(\"\\n\")\n",
    "        writer.write(\"baseCommand: \")\n",
    "    \n",
    "    return"
   ]
  },
  {
   "cell_type": "code",
   "execution_count": 15,
   "metadata": {
    "collapsed": true
   },
   "outputs": [],
   "source": [
    "def create_cwl_files(program_id): \n",
    "    filename = \"cwl_files/\"+ steps[program_id]['program_name'] + \".cwl\"\n",
    "    write_file(filename, program_id)\n",
    "    \n",
    "    return \n"
   ]
  },
  {
   "cell_type": "code",
   "execution_count": 88,
   "metadata": {},
   "outputs": [],
   "source": [
    "for wf in workflow:\n",
    "    for sp in sub_programs[wf]:\n",
    "        create_cwl_files(sp)"
   ]
  },
  {
   "cell_type": "code",
   "execution_count": 47,
   "metadata": {},
   "outputs": [
    {
     "data": {
      "text/plain": [
       "{'reconstruction_matrix'}"
      ]
     },
     "execution_count": 47,
     "metadata": {},
     "output_type": "execute_result"
    }
   ],
   "source": [
    "set(get_in_ports('5')).intersection(set(get_out_ports('4')))"
   ]
  },
  {
   "cell_type": "code",
   "execution_count": 55,
   "metadata": {},
   "outputs": [],
   "source": [
    "a = set(get_in_ports('1')).intersection(set(get_in_ports('4')))"
   ]
  },
  {
   "cell_type": "code",
   "execution_count": 61,
   "metadata": {},
   "outputs": [],
   "source": [
    "b = set(get_in_ports('7')).intersection(set(get_out_ports('4')))"
   ]
  },
  {
   "cell_type": "code",
   "execution_count": 62,
   "metadata": {},
   "outputs": [
    {
     "data": {
      "text/plain": [
       "set()"
      ]
     },
     "execution_count": 62,
     "metadata": {},
     "output_type": "execute_result"
    }
   ],
   "source": [
    "b"
   ]
  },
  {
   "cell_type": "code",
   "execution_count": 82,
   "metadata": {},
   "outputs": [
    {
     "name": "stdout",
     "output_type": "stream",
     "text": [
      "get_predictor_matrix/predictor_matrix get_carscores\n",
      "get_predictor_matrix/max_preds calculate_Models\n",
      "get_predictor_matrix/max_preds defineLinearModels\n",
      "get_reconstruction_matrix/reconstruction_matrix get_predlist\n",
      "get_predlist/predlist calculate_Models\n",
      "get_predlist/predlist defineLinearModels\n",
      "get_carscores/carscores calculate_Models\n",
      "get_carscores/carscores defineLinearModels\n",
      "defineLinearModels/matches calculateLinearModels\n",
      "defineLinearModels/models calculateLinearModels\n",
      "calculateLinearModels/model_errors simplifyLinearModels\n",
      "calculateLinearModels/coefficients simplifyLinearModels\n"
     ]
    }
   ],
   "source": [
    "for sid in steps.keys(): \n",
    "    for id in range(int(sid),len(steps)):\n",
    "        a = set(get_in_ports(str(id))).intersection(set(get_out_ports(str(sid))))\n",
    "        if len(a) > 0 : \n",
    "            for elem in a: \n",
    "                print(steps[sid][\"program_name\"]+\"/\"+ elem, steps[str(id)][\"program_name\"] )"
   ]
  },
  {
   "cell_type": "code",
   "execution_count": 83,
   "metadata": {},
   "outputs": [
    {
     "data": {
      "text/plain": [
       "['prism_data_for_coordinates', 'predictor_matrix']"
      ]
     },
     "execution_count": 83,
     "metadata": {},
     "output_type": "execute_result"
    }
   ],
   "source": [
    "get_in_ports('6')"
   ]
  },
  {
   "cell_type": "code",
   "execution_count": null,
   "metadata": {
    "collapsed": true
   },
   "outputs": [],
   "source": []
  }
 ],
 "metadata": {
  "kernelspec": {
   "display_name": "Python 3",
   "language": "python",
   "name": "python3"
  },
  "language_info": {
   "codemirror_mode": {
    "name": "ipython",
    "version": 3
   },
   "file_extension": ".py",
   "mimetype": "text/x-python",
   "name": "python",
   "nbconvert_exporter": "python",
   "pygments_lexer": "ipython3",
   "version": "3.6.3"
  }
 },
 "nbformat": 4,
 "nbformat_minor": 2
}
