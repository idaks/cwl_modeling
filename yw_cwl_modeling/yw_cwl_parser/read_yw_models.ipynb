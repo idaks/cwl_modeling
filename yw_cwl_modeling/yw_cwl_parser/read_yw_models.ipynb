{
 "cells": [
  {
   "cell_type": "code",
   "execution_count": 1,
   "metadata": {},
   "outputs": [],
   "source": [
    "import os \n",
    "from collections import defaultdict\n"
   ]
  },
  {
   "cell_type": "code",
   "execution_count": 2,
   "metadata": {},
   "outputs": [],
   "source": [
    "def extract_steps(line):\n",
    "    \n",
    "    #% FACT: program(program_id, program_name, qualified_program_name, begin_annotation_id, end_annotation_id).\n",
    "    #print(\"Extracting steps.\")\n",
    "    ## Extract data between \"(\" and \")\".\n",
    "    data = line[line.index(\"(\")+1:line.index(\")\")]\n",
    "    \n",
    "    data = data.split(',')\n",
    "    #print(data)\n",
    "    steps[data[0]] = {\n",
    "                      \"program_name\" :data[1].strip().strip(\"'\"),\n",
    "                      \"qualified_program_name\": data[2].strip().strip(\"'\")\n",
    "                    }\n",
    "    \n",
    "    #print(steps)\n",
    "    return"
   ]
  },
  {
   "cell_type": "code",
   "execution_count": 3,
   "metadata": {},
   "outputs": [],
   "source": [
    "def extract_workflows(line):\n",
    "    \n",
    "    data = line[line.index(\"(\")+1:line.index(\")\")]\n",
    "    workflow[data[0]] = steps[data[0]]['program_name']\n",
    "    return "
   ]
  },
  {
   "cell_type": "code",
   "execution_count": 4,
   "metadata": {},
   "outputs": [],
   "source": [
    "def extract_ports(line):\n",
    "    #print(\"Extracting ports.\")\n",
    "    ## Extract data between \"(\" and \")\".\n",
    "    data = line[line.index(\"(\")+1:line.index(\")\")]\n",
    "    \n",
    "    #% FACT: port(port_id, port_type, port_name, qualified_port_name, port_annotation_id, data_id).\n",
    "    \n",
    "    data = data.split(',')\n",
    "    \n",
    "    ports[int(data[0])] = {\n",
    "                             \"port_type\": data[1].strip().strip(\"'\").upper(),\n",
    "                             \"port_name\": data[2].strip().strip(\"'\"),\n",
    "                             \"qualified_port_name\" : data[3].strip().strip(\"'\"), \n",
    "                             \"data_id\":data[5].strip().strip(\"'\")\n",
    "                            }\n",
    "    return "
   ]
  },
  {
   "cell_type": "code",
   "execution_count": 5,
   "metadata": {},
   "outputs": [],
   "source": [
    "\n",
    "def input_ports(line,in_ports):\n",
    "    #print(\"Extracting Input ports.\")\n",
    "    \n",
    "    ## Extract data between \"(\" and \")\".\n",
    "    ## % FACT: has_in_port(step_id, port_id).\n",
    "\n",
    "    data = line[line.index(\"(\")+1:line.index(\")\")]\n",
    "    \n",
    "    data = data.split(',')\n",
    "    \n",
    "    in_ports[data[0]].append((data[0].strip(), data[1].strip()))\n",
    "    \n",
    "    return"
   ]
  },
  {
   "cell_type": "code",
   "execution_count": 6,
   "metadata": {},
   "outputs": [],
   "source": [
    "def output_ports(line,out_ports): \n",
    "    #print(\"Extracting output ports.\")\n",
    "    ## Extract data between \"(\" and \")\".\n",
    "    data = line[line.index(\"(\")+1:line.index(\")\")]\n",
    "    data = data.split(',')\n",
    "    out_ports[data[0]].append((data[0].strip(), data[1].strip()))\n",
    "    #print(data)\n",
    "    return"
   ]
  },
  {
   "cell_type": "code",
   "execution_count": 7,
   "metadata": {},
   "outputs": [],
   "source": [
    "def has_subprogram(line): \n",
    "    #print(\"Extracting output ports.\")\n",
    "    ## Extract data between \"(\" and \")\".\n",
    "    data = line[line.index(\"(\")+1:line.index(\")\")]\n",
    "    data = data.split(',')\n",
    "    list1 = []\n",
    "    #print(data[0],data[1])\n",
    "    if data[0] in sub_programs.keys():\n",
    "        list1 = sub_programs[data[0]]\n",
    "        list1.append(data[1].strip())\n",
    "        sub_programs[data[0]] = list1\n",
    "    else:\n",
    "        list1.append(data[1].strip())\n",
    "        sub_programs[data[0]]= list1\n",
    "    #print(data)\n",
    "    return"
   ]
  },
  {
   "cell_type": "code",
   "execution_count": 8,
   "metadata": {},
   "outputs": [],
   "source": [
    "def port_alias(line):\n",
    "    data = line[line.index(\"(\")+1:line.index(\")\")]\n",
    "    data = data.split(',')\n",
    "    A = ports[int(data[0].strip())][\"port_name\"]\n",
    "    #print(data[1])\n",
    "    port_alt_name[A] = data[1].strip().strip(\"'\")\n",
    "    return "
   ]
  },
  {
   "cell_type": "code",
   "execution_count": 9,
   "metadata": {},
   "outputs": [],
   "source": [
    "steps = {}\n",
    "ports = {}\n",
    "workflow = {}\n",
    "in_ports = defaultdict(list)\n",
    "out_ports = defaultdict(list)\n",
    "sub_programs = {}\n",
    "port_alt_name = {}\n",
    "cnt =0\n",
    "with open(\"models/exec_paleocar.P\", \"r\") as yw_struct:\n",
    "    line = yw_struct.readline()\n",
    "    while line:\n",
    "        if(\"program(\" in line and \"% FACT\" not in line and \"has_subprogram\" not in line):\n",
    "            extract_steps(line)\n",
    "        elif(\"workflow(\" in line and \"% FACT\" not in line):\n",
    "            extract_workflows(line)            \n",
    "        elif(\"has_subprogram(\" in line and \"% FACT\" not in line):\n",
    "            has_subprogram(line)            \n",
    "        elif(\"port(\" in line and \"% FACT:\" not in line and \"has_in_port(\" not in line and \"has_out_port\" not in line):\n",
    "        #    print(line)\n",
    "            extract_ports(line)\n",
    "        elif(\"has_in_port(\" in line and \"% FACT\" not in line):\n",
    "            input_ports(line,in_ports)\n",
    "        elif(\"has_out_port(\" in line and \"% FACT\" not in line):\n",
    "            output_ports(line,out_ports)\n",
    "        elif (\"port_alias(\" in line and \"% FACT\" not in line ): \n",
    "            port_alias(line)\n",
    "           \n",
    "        line = yw_struct.readline()"
   ]
  },
  {
   "cell_type": "code",
   "execution_count": 10,
   "metadata": {},
   "outputs": [],
   "source": [
    "def get_in_ports(program_id):\n",
    "    #print(\"inside in ports\")\n",
    "    input_ports =[]\n",
    "    for s in in_ports[program_id.strip()]:\n",
    "        #print(s)\n",
    "        input_ports.append(ports[int(s[1])]['port_name'])\n",
    "        #print(ports[int(s[1])]['port_name'])\n",
    "    return input_ports"
   ]
  },
  {
   "cell_type": "code",
   "execution_count": 11,
   "metadata": {},
   "outputs": [],
   "source": [
    "def get_out_ports(program_id):\n",
    "    output_ports =[]\n",
    "    \n",
    "    for s in out_ports[program_id.strip()]:\n",
    "        output_ports.append(ports[int(s[1])]['port_name'])\n",
    "    return output_ports"
   ]
  },
  {
   "cell_type": "code",
   "execution_count": 12,
   "metadata": {},
   "outputs": [],
   "source": [
    "def create_file(filename, program_id):\n",
    "    header = '''\n",
    "#!/usr/bin/env cwl-runner\n",
    "\n",
    "\n",
    "cwlVersion: v1.0\n",
    "class: CommandLineTool\n",
    "'''\n",
    "    with open(filename, \"w+\") as writer:\n",
    "        input_buffer = 'inputs: \\n'\n",
    "        for p in get_in_ports(program_id):\n",
    "            input_buffer = input_buffer + ' '+ p + ': \\n'+ '  type: string \\n \\n'\n",
    "\n",
    "        #print(input_buffer)\n",
    "        output_buffer = 'outputs: \\n'\n",
    "        output_buffer.strip()\n",
    "\n",
    "        for p in get_out_ports(program_id):\n",
    "            #print(len(p))\n",
    "            if p =='' : \n",
    "                print(\"No output ports\")\n",
    "            else:\n",
    "                output_buffer = output_buffer + ' '+ p + ': \\n'+ '  type: string \\n \\n'\n",
    "\n",
    "        writer.write(header)    \n",
    "        writer.write(input_buffer)\n",
    "        writer.write(output_buffer)\n",
    "        writer.write(\"\\n\")\n",
    "        writer.write(\"baseCommand: \")\n",
    "    \n",
    "    return"
   ]
  },
  {
   "cell_type": "code",
   "execution_count": 13,
   "metadata": {},
   "outputs": [],
   "source": [
    "def create_cwl_files(program_id): \n",
    "    filename = \"cwl_files/\"+ steps[program_id]['program_name'] + \".cwl\"\n",
    "    create_file(filename, program_id)\n",
    "    \n",
    "    return "
   ]
  },
  {
   "cell_type": "code",
   "execution_count": 14,
   "metadata": {},
   "outputs": [],
   "source": [
    "def get_wf_steps(workflowId):\n",
    "    \n",
    "    wf_steps = \"steps: \\n \" \n",
    "    \n",
    "    for s in sub_programs[workflowId]:\n",
    "        filename = 'cwl_files/' + steps[s][\"program_name\"] + '.cwl'\n",
    "        step_buffer = steps[s][\"program_name\"] + ': \\n ' + ' run: ' + filename + ' \\n ' + ' in: \\n'\n",
    "        for i in get_in_ports(s):\n",
    "            step_buffer = step_buffer + '   ' + i + ': '\n",
    "            if i in in_out_ports.keys():\n",
    "                step_buffer = step_buffer + in_out_ports[i][1] + '\\n'\n",
    "            else: \n",
    "                step_buffer = step_buffer + i + '\\n'\n",
    "        step_buffer =  step_buffer + \"  out: [\" + ' , '.join(get_out_ports(s)) + '] \\n' \n",
    "        \n",
    "        wf_steps = wf_steps + step_buffer\n",
    "    \n",
    "    return wf_steps"
   ]
  },
  {
   "cell_type": "code",
   "execution_count": 15,
   "metadata": {},
   "outputs": [],
   "source": [
    "for wf in workflow:\n",
    "    for sp in sub_programs[wf]:\n",
    "        create_cwl_files(sp)"
   ]
  },
  {
   "cell_type": "code",
   "execution_count": 16,
   "metadata": {},
   "outputs": [],
   "source": [
    "in_out_ports = {} \n",
    "for sid in steps.keys(): \n",
    "    for id in range(0,len(steps)+1):\n",
    "        a = set(get_in_ports(str(id))).intersection(set(get_out_ports(str(sid))))\n",
    "        #print(a)\n",
    "        if len(a) > 0 : \n",
    "            for elem in a: \n",
    "                #print(steps[str(id)][\"program_name\"] , \"\\t\\t\", steps[sid][\"program_name\"]+\"/\"+ elem )\n",
    "                in_out_ports[elem] = [steps[str(id)][\"program_name\"], steps[sid][\"program_name\"]+\"/\"+ elem]\n",
    "                "
   ]
  },
  {
   "cell_type": "code",
   "execution_count": 17,
   "metadata": {},
   "outputs": [],
   "source": [
    "def port_name(port_name):\n",
    "    \n",
    "    name = \"\"\n",
    "    \n",
    "    if p in port_alt_name.keys():\n",
    "        name = port_alt_name[p]\n",
    "    else: \n",
    "        name = p \n",
    "        \n",
    "    return name"
   ]
  },
  {
   "cell_type": "code",
   "execution_count": 18,
   "metadata": {},
   "outputs": [],
   "source": [
    "def get_in_out_ports(program_id):  \n",
    "    for inp in get_in_ports(program_id):\n",
    "        #print(inp)\n",
    "        if inp in in_out_ports.keys(): \n",
    "            return in_out_ports[inp][1]\n",
    "        else: \n",
    "            return inp"
   ]
  },
  {
   "cell_type": "code",
   "execution_count": 19,
   "metadata": {},
   "outputs": [],
   "source": [
    "def link_wf_ports(workflow_id):\n",
    "    wf_out_ports=[]\n",
    "    for sp in sub_programs[workflow_id]:\n",
    "        for p in set(get_out_ports(workflow_id)).intersection(set(get_out_ports(sp))):\n",
    "            wf_out_ports.append(steps['2']['program_name']+ '/' + p)\n",
    "    return wf_out_ports"
   ]
  },
  {
   "cell_type": "code",
   "execution_count": 20,
   "metadata": {},
   "outputs": [],
   "source": [
    "def workflow_detail(program_id):\n",
    "    header = '''\n",
    "#!/usr/bin/env cwl-runner\n",
    "cwlVersion: v1.0\n",
    "class: Workflow\n",
    "requirements:\n",
    "    - class: SubworkflowFeatureRequirement\n",
    "'''\n",
    "    input_buffer = 'inputs: \\n'\n",
    "\n",
    "    for p in get_in_ports(program_id):\n",
    "        input_buffer = input_buffer.strip('') + '  '+ p + ': \\n'+ '   type: string \\n'\n",
    "        \n",
    "    output_buffer = 'outputs: \\n'\n",
    "    out_wf_ports = link_wf_ports(program_id)\n",
    "    \n",
    "    for port in out_wf_ports:\n",
    "        output_buffer = output_buffer + '  ' +  port.split('/')[1]  + ': \\n'+ '   type: string \\n   outputSource: '+ port +'\\n'\n",
    "    \n",
    "    #print(output_buffer)\n",
    "    #print(header.strip(''), input_buffer.strip(''), output_buffer.strip())\n",
    "    wf_step = get_wf_steps(program_id)\n",
    "    \n",
    "    #print(wf_step)\n",
    "    return header, input_buffer, output_buffer, wf_step "
   ]
  },
  {
   "cell_type": "code",
   "execution_count": 21,
   "metadata": {},
   "outputs": [],
   "source": [
    "filename = 'wf_' + steps['1'][\"program_name\"] + '.cwl'\n",
    "\n",
    "with open(filename, 'w+') as file_writer:\n",
    "    hdr, inp_buff, out_buff, wf_step = workflow_detail('1')\n",
    "    file_writer.write(hdr)\n",
    "    file_writer.write(inp_buff)\n",
    "    file_writer.write(out_buff)\n",
    "    file_writer.write(wf_step)"
   ]
  },
  {
   "cell_type": "code",
   "execution_count": null,
   "metadata": {},
   "outputs": [],
   "source": [
    "out_ports['1']"
   ]
  },
  {
   "cell_type": "code",
   "execution_count": null,
   "metadata": {},
   "outputs": [],
   "source": []
  },
  {
   "cell_type": "code",
   "execution_count": null,
   "metadata": {},
   "outputs": [],
   "source": []
  }
 ],
 "metadata": {
  "kernelspec": {
   "display_name": "Python 3",
   "language": "python",
   "name": "python3"
  },
  "language_info": {
   "codemirror_mode": {
    "name": "ipython",
    "version": 3
   },
   "file_extension": ".py",
   "mimetype": "text/x-python",
   "name": "python",
   "nbconvert_exporter": "python",
   "pygments_lexer": "ipython3",
   "version": "3.6.4"
  }
 },
 "nbformat": 4,
 "nbformat_minor": 2
}
